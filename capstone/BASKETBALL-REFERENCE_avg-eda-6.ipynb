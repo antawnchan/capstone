{
 "cells": [
  {
   "cell_type": "code",
   "execution_count": 1,
   "metadata": {
    "collapsed": true
   },
   "outputs": [],
   "source": [
    "import pandas as pd\n",
    "import numpy as np\n",
    "import math\n",
    "import matplotlib.pyplot as plt\n",
    "import seaborn as sns\n",
    "import os\n",
    "\n",
    "%matplotlib inline"
   ]
  },
  {
   "cell_type": "code",
   "execution_count": 2,
   "metadata": {},
   "outputs": [
    {
     "name": "stdout",
     "output_type": "stream",
     "text": [
      "1 all_stats.csv\n"
     ]
    }
   ],
   "source": [
    "count = 0\n",
    "for file in os.listdir(\"./basketball_reference/\"):\n",
    "    if file.startswith(\"all_stats.csv\"):\n",
    "        count += 1\n",
    "        print count, file"
   ]
  },
  {
   "cell_type": "code",
   "execution_count": 3,
   "metadata": {
    "collapsed": true
   },
   "outputs": [],
   "source": [
    "df = pd.DataFrame()\n",
    "for file in os.listdir(\"./basketball_reference/\"):\n",
    "    if file.startswith(\"all_stats.csv\"):\n",
    "        filepath = \"./basketball_reference/\" + file\n",
    "#         print filepath\n",
    "        data = pd.read_csv(filepath)\n",
    "        df = df.append(data)"
   ]
  },
  {
   "cell_type": "code",
   "execution_count": 4,
   "metadata": {},
   "outputs": [
    {
     "data": {
      "text/html": [
       "<div>\n",
       "<table border=\"1\" class=\"dataframe\">\n",
       "  <thead>\n",
       "    <tr style=\"text-align: right;\">\n",
       "      <th></th>\n",
       "      <th>Rk</th>\n",
       "      <th>Player</th>\n",
       "      <th>Pos</th>\n",
       "      <th>Age</th>\n",
       "      <th>Tm</th>\n",
       "      <th>G</th>\n",
       "      <th>GS</th>\n",
       "      <th>MPG</th>\n",
       "      <th>FG</th>\n",
       "      <th>FGA</th>\n",
       "      <th>...</th>\n",
       "      <th>TOV%</th>\n",
       "      <th>USG%</th>\n",
       "      <th>OWS</th>\n",
       "      <th>DWS</th>\n",
       "      <th>WS</th>\n",
       "      <th>WS/48</th>\n",
       "      <th>OBPM</th>\n",
       "      <th>DBPM</th>\n",
       "      <th>BPM</th>\n",
       "      <th>VORP</th>\n",
       "    </tr>\n",
       "  </thead>\n",
       "  <tbody>\n",
       "    <tr>\n",
       "      <th>573</th>\n",
       "      <td>472</td>\n",
       "      <td>Joe Young\\youngjo01</td>\n",
       "      <td>PG</td>\n",
       "      <td>23</td>\n",
       "      <td>IND</td>\n",
       "      <td>41</td>\n",
       "      <td>0</td>\n",
       "      <td>9.4</td>\n",
       "      <td>1.5</td>\n",
       "      <td>4.1</td>\n",
       "      <td>...</td>\n",
       "      <td>15.5</td>\n",
       "      <td>24.4</td>\n",
       "      <td>-0.5</td>\n",
       "      <td>0.5</td>\n",
       "      <td>-0.1</td>\n",
       "      <td>-0.009</td>\n",
       "      <td>-3.9</td>\n",
       "      <td>-1.5</td>\n",
       "      <td>-5.4</td>\n",
       "      <td>-0.3</td>\n",
       "    </tr>\n",
       "    <tr>\n",
       "      <th>574</th>\n",
       "      <td>473</td>\n",
       "      <td>Nick Young\\youngni01</td>\n",
       "      <td>SG</td>\n",
       "      <td>30</td>\n",
       "      <td>LAL</td>\n",
       "      <td>54</td>\n",
       "      <td>2</td>\n",
       "      <td>19.1</td>\n",
       "      <td>2.3</td>\n",
       "      <td>6.9</td>\n",
       "      <td>...</td>\n",
       "      <td>6.9</td>\n",
       "      <td>18.5</td>\n",
       "      <td>0.1</td>\n",
       "      <td>0.0</td>\n",
       "      <td>0.1</td>\n",
       "      <td>0.003</td>\n",
       "      <td>-1.4</td>\n",
       "      <td>-3.5</td>\n",
       "      <td>-4.8</td>\n",
       "      <td>-0.7</td>\n",
       "    </tr>\n",
       "    <tr>\n",
       "      <th>575</th>\n",
       "      <td>474</td>\n",
       "      <td>Thaddeus Young\\youngth01</td>\n",
       "      <td>PF</td>\n",
       "      <td>27</td>\n",
       "      <td>BRO</td>\n",
       "      <td>73</td>\n",
       "      <td>73</td>\n",
       "      <td>33.0</td>\n",
       "      <td>6.8</td>\n",
       "      <td>13.2</td>\n",
       "      <td>...</td>\n",
       "      <td>11.6</td>\n",
       "      <td>21.6</td>\n",
       "      <td>1.9</td>\n",
       "      <td>2.2</td>\n",
       "      <td>4.1</td>\n",
       "      <td>0.081</td>\n",
       "      <td>-0.5</td>\n",
       "      <td>0.6</td>\n",
       "      <td>0.1</td>\n",
       "      <td>1.3</td>\n",
       "    </tr>\n",
       "    <tr>\n",
       "      <th>576</th>\n",
       "      <td>475</td>\n",
       "      <td>Cody Zeller\\zelleco01</td>\n",
       "      <td>C</td>\n",
       "      <td>23</td>\n",
       "      <td>CHA</td>\n",
       "      <td>73</td>\n",
       "      <td>60</td>\n",
       "      <td>24.3</td>\n",
       "      <td>3.2</td>\n",
       "      <td>6.0</td>\n",
       "      <td>...</td>\n",
       "      <td>11.2</td>\n",
       "      <td>15.4</td>\n",
       "      <td>3.6</td>\n",
       "      <td>2.7</td>\n",
       "      <td>6.3</td>\n",
       "      <td>0.169</td>\n",
       "      <td>-1.0</td>\n",
       "      <td>2.0</td>\n",
       "      <td>1.0</td>\n",
       "      <td>1.3</td>\n",
       "    </tr>\n",
       "    <tr>\n",
       "      <th>577</th>\n",
       "      <td>476</td>\n",
       "      <td>Tyler Zeller\\zellety01</td>\n",
       "      <td>C</td>\n",
       "      <td>26</td>\n",
       "      <td>BOS</td>\n",
       "      <td>60</td>\n",
       "      <td>3</td>\n",
       "      <td>11.8</td>\n",
       "      <td>2.3</td>\n",
       "      <td>4.8</td>\n",
       "      <td>...</td>\n",
       "      <td>12.0</td>\n",
       "      <td>23.0</td>\n",
       "      <td>0.8</td>\n",
       "      <td>0.9</td>\n",
       "      <td>1.7</td>\n",
       "      <td>0.114</td>\n",
       "      <td>-3.2</td>\n",
       "      <td>-1.1</td>\n",
       "      <td>-4.4</td>\n",
       "      <td>-0.4</td>\n",
       "    </tr>\n",
       "  </tbody>\n",
       "</table>\n",
       "<p>5 rows × 51 columns</p>\n",
       "</div>"
      ],
      "text/plain": [
       "      Rk                    Player Pos  Age   Tm   G  GS   MPG   FG   FGA  \\\n",
       "573  472       Joe Young\\youngjo01  PG   23  IND  41   0   9.4  1.5   4.1   \n",
       "574  473      Nick Young\\youngni01  SG   30  LAL  54   2  19.1  2.3   6.9   \n",
       "575  474  Thaddeus Young\\youngth01  PF   27  BRO  73  73  33.0  6.8  13.2   \n",
       "576  475     Cody Zeller\\zelleco01   C   23  CHA  73  60  24.3  3.2   6.0   \n",
       "577  476    Tyler Zeller\\zellety01   C   26  BOS  60   3  11.8  2.3   4.8   \n",
       "\n",
       "     ...   TOV%  USG%  OWS  DWS   WS  WS/48  OBPM  DBPM  BPM  VORP  \n",
       "573  ...   15.5  24.4 -0.5  0.5 -0.1 -0.009  -3.9  -1.5 -5.4  -0.3  \n",
       "574  ...    6.9  18.5  0.1  0.0  0.1  0.003  -1.4  -3.5 -4.8  -0.7  \n",
       "575  ...   11.6  21.6  1.9  2.2  4.1  0.081  -0.5   0.6  0.1   1.3  \n",
       "576  ...   11.2  15.4  3.6  2.7  6.3  0.169  -1.0   2.0  1.0   1.3  \n",
       "577  ...   12.0  23.0  0.8  0.9  1.7  0.114  -3.2  -1.1 -4.4  -0.4  \n",
       "\n",
       "[5 rows x 51 columns]"
      ]
     },
     "execution_count": 4,
     "metadata": {},
     "output_type": "execute_result"
    }
   ],
   "source": [
    "df.tail()"
   ]
  },
  {
   "cell_type": "code",
   "execution_count": 5,
   "metadata": {
    "collapsed": true
   },
   "outputs": [],
   "source": [
    "df = df.reset_index()"
   ]
  },
  {
   "cell_type": "code",
   "execution_count": 6,
   "metadata": {},
   "outputs": [
    {
     "data": {
      "text/html": [
       "<div>\n",
       "<table border=\"1\" class=\"dataframe\">\n",
       "  <thead>\n",
       "    <tr style=\"text-align: right;\">\n",
       "      <th></th>\n",
       "      <th>index</th>\n",
       "      <th>Rk</th>\n",
       "      <th>Player</th>\n",
       "      <th>Pos</th>\n",
       "      <th>Age</th>\n",
       "      <th>Tm</th>\n",
       "      <th>G</th>\n",
       "      <th>GS</th>\n",
       "      <th>MPG</th>\n",
       "      <th>FG</th>\n",
       "      <th>...</th>\n",
       "      <th>TOV%</th>\n",
       "      <th>USG%</th>\n",
       "      <th>OWS</th>\n",
       "      <th>DWS</th>\n",
       "      <th>WS</th>\n",
       "      <th>WS/48</th>\n",
       "      <th>OBPM</th>\n",
       "      <th>DBPM</th>\n",
       "      <th>BPM</th>\n",
       "      <th>VORP</th>\n",
       "    </tr>\n",
       "  </thead>\n",
       "  <tbody>\n",
       "    <tr>\n",
       "      <th>573</th>\n",
       "      <td>573</td>\n",
       "      <td>472</td>\n",
       "      <td>Joe Young\\youngjo01</td>\n",
       "      <td>PG</td>\n",
       "      <td>23</td>\n",
       "      <td>IND</td>\n",
       "      <td>41</td>\n",
       "      <td>0</td>\n",
       "      <td>9.4</td>\n",
       "      <td>1.5</td>\n",
       "      <td>...</td>\n",
       "      <td>15.5</td>\n",
       "      <td>24.4</td>\n",
       "      <td>-0.5</td>\n",
       "      <td>0.5</td>\n",
       "      <td>-0.1</td>\n",
       "      <td>-0.009</td>\n",
       "      <td>-3.9</td>\n",
       "      <td>-1.5</td>\n",
       "      <td>-5.4</td>\n",
       "      <td>-0.3</td>\n",
       "    </tr>\n",
       "    <tr>\n",
       "      <th>574</th>\n",
       "      <td>574</td>\n",
       "      <td>473</td>\n",
       "      <td>Nick Young\\youngni01</td>\n",
       "      <td>SG</td>\n",
       "      <td>30</td>\n",
       "      <td>LAL</td>\n",
       "      <td>54</td>\n",
       "      <td>2</td>\n",
       "      <td>19.1</td>\n",
       "      <td>2.3</td>\n",
       "      <td>...</td>\n",
       "      <td>6.9</td>\n",
       "      <td>18.5</td>\n",
       "      <td>0.1</td>\n",
       "      <td>0.0</td>\n",
       "      <td>0.1</td>\n",
       "      <td>0.003</td>\n",
       "      <td>-1.4</td>\n",
       "      <td>-3.5</td>\n",
       "      <td>-4.8</td>\n",
       "      <td>-0.7</td>\n",
       "    </tr>\n",
       "    <tr>\n",
       "      <th>575</th>\n",
       "      <td>575</td>\n",
       "      <td>474</td>\n",
       "      <td>Thaddeus Young\\youngth01</td>\n",
       "      <td>PF</td>\n",
       "      <td>27</td>\n",
       "      <td>BRO</td>\n",
       "      <td>73</td>\n",
       "      <td>73</td>\n",
       "      <td>33.0</td>\n",
       "      <td>6.8</td>\n",
       "      <td>...</td>\n",
       "      <td>11.6</td>\n",
       "      <td>21.6</td>\n",
       "      <td>1.9</td>\n",
       "      <td>2.2</td>\n",
       "      <td>4.1</td>\n",
       "      <td>0.081</td>\n",
       "      <td>-0.5</td>\n",
       "      <td>0.6</td>\n",
       "      <td>0.1</td>\n",
       "      <td>1.3</td>\n",
       "    </tr>\n",
       "    <tr>\n",
       "      <th>576</th>\n",
       "      <td>576</td>\n",
       "      <td>475</td>\n",
       "      <td>Cody Zeller\\zelleco01</td>\n",
       "      <td>C</td>\n",
       "      <td>23</td>\n",
       "      <td>CHA</td>\n",
       "      <td>73</td>\n",
       "      <td>60</td>\n",
       "      <td>24.3</td>\n",
       "      <td>3.2</td>\n",
       "      <td>...</td>\n",
       "      <td>11.2</td>\n",
       "      <td>15.4</td>\n",
       "      <td>3.6</td>\n",
       "      <td>2.7</td>\n",
       "      <td>6.3</td>\n",
       "      <td>0.169</td>\n",
       "      <td>-1.0</td>\n",
       "      <td>2.0</td>\n",
       "      <td>1.0</td>\n",
       "      <td>1.3</td>\n",
       "    </tr>\n",
       "    <tr>\n",
       "      <th>577</th>\n",
       "      <td>577</td>\n",
       "      <td>476</td>\n",
       "      <td>Tyler Zeller\\zellety01</td>\n",
       "      <td>C</td>\n",
       "      <td>26</td>\n",
       "      <td>BOS</td>\n",
       "      <td>60</td>\n",
       "      <td>3</td>\n",
       "      <td>11.8</td>\n",
       "      <td>2.3</td>\n",
       "      <td>...</td>\n",
       "      <td>12.0</td>\n",
       "      <td>23.0</td>\n",
       "      <td>0.8</td>\n",
       "      <td>0.9</td>\n",
       "      <td>1.7</td>\n",
       "      <td>0.114</td>\n",
       "      <td>-3.2</td>\n",
       "      <td>-1.1</td>\n",
       "      <td>-4.4</td>\n",
       "      <td>-0.4</td>\n",
       "    </tr>\n",
       "  </tbody>\n",
       "</table>\n",
       "<p>5 rows × 52 columns</p>\n",
       "</div>"
      ],
      "text/plain": [
       "     index   Rk                    Player Pos  Age   Tm   G  GS   MPG   FG  \\\n",
       "573    573  472       Joe Young\\youngjo01  PG   23  IND  41   0   9.4  1.5   \n",
       "574    574  473      Nick Young\\youngni01  SG   30  LAL  54   2  19.1  2.3   \n",
       "575    575  474  Thaddeus Young\\youngth01  PF   27  BRO  73  73  33.0  6.8   \n",
       "576    576  475     Cody Zeller\\zelleco01   C   23  CHA  73  60  24.3  3.2   \n",
       "577    577  476    Tyler Zeller\\zellety01   C   26  BOS  60   3  11.8  2.3   \n",
       "\n",
       "     ...   TOV%  USG%  OWS  DWS   WS  WS/48  OBPM  DBPM  BPM  VORP  \n",
       "573  ...   15.5  24.4 -0.5  0.5 -0.1 -0.009  -3.9  -1.5 -5.4  -0.3  \n",
       "574  ...    6.9  18.5  0.1  0.0  0.1  0.003  -1.4  -3.5 -4.8  -0.7  \n",
       "575  ...   11.6  21.6  1.9  2.2  4.1  0.081  -0.5   0.6  0.1   1.3  \n",
       "576  ...   11.2  15.4  3.6  2.7  6.3  0.169  -1.0   2.0  1.0   1.3  \n",
       "577  ...   12.0  23.0  0.8  0.9  1.7  0.114  -3.2  -1.1 -4.4  -0.4  \n",
       "\n",
       "[5 rows x 52 columns]"
      ]
     },
     "execution_count": 6,
     "metadata": {},
     "output_type": "execute_result"
    }
   ],
   "source": [
    "df.tail()"
   ]
  },
  {
   "cell_type": "code",
   "execution_count": 7,
   "metadata": {
    "collapsed": true
   },
   "outputs": [],
   "source": [
    "del df['index']"
   ]
  },
  {
   "cell_type": "code",
   "execution_count": 10,
   "metadata": {
    "collapsed": true
   },
   "outputs": [
    {
     "name": "stdout",
     "output_type": "stream",
     "text": [
      "<class 'pandas.core.frame.DataFrame'>\n",
      "RangeIndex: 578 entries, 0 to 577\n",
      "Data columns (total 51 columns):\n",
      "Rk        578 non-null int64\n",
      "Player    578 non-null object\n",
      "Pos       578 non-null object\n",
      "Age       578 non-null int64\n",
      "Tm        578 non-null object\n",
      "G         578 non-null int64\n",
      "GS        578 non-null int64\n",
      "MPG       578 non-null float64\n",
      "FG        578 non-null float64\n",
      "FGA       578 non-null float64\n",
      "FG%       575 non-null float64\n",
      "3P        578 non-null float64\n",
      "3PA       578 non-null float64\n",
      "3P%       522 non-null float64\n",
      "2P        578 non-null float64\n",
      "2PA       578 non-null float64\n",
      "2P%       570 non-null float64\n",
      "eFG%      575 non-null float64\n",
      "FT        578 non-null float64\n",
      "FTA       578 non-null float64\n",
      "FT%       554 non-null float64\n",
      "ORB       578 non-null float64\n",
      "DRB       578 non-null float64\n",
      "TRB       578 non-null float64\n",
      "AST       578 non-null float64\n",
      "STL       578 non-null float64\n",
      "BLK       578 non-null float64\n",
      "TOV       578 non-null float64\n",
      "PF        578 non-null float64\n",
      "PS/G      578 non-null float64\n",
      "MP        578 non-null int64\n",
      "PER       578 non-null float64\n",
      "TS%       575 non-null float64\n",
      "3PAr      575 non-null float64\n",
      "FTr       575 non-null float64\n",
      "ORB%      578 non-null float64\n",
      "DRB%      578 non-null float64\n",
      "TRB%      578 non-null float64\n",
      "AST%      578 non-null float64\n",
      "STL%      578 non-null float64\n",
      "BLK%      578 non-null float64\n",
      "TOV%      575 non-null float64\n",
      "USG%      578 non-null float64\n",
      "OWS       578 non-null float64\n",
      "DWS       578 non-null float64\n",
      "WS        578 non-null float64\n",
      "WS/48     578 non-null float64\n",
      "OBPM      578 non-null float64\n",
      "DBPM      578 non-null float64\n",
      "BPM       578 non-null float64\n",
      "VORP      578 non-null float64\n",
      "dtypes: float64(43), int64(5), object(3)\n",
      "memory usage: 230.4+ KB\n"
     ]
    }
   ],
   "source": [
    "df.info()"
   ]
  },
  {
   "cell_type": "code",
   "execution_count": 9,
   "metadata": {},
   "outputs": [
    {
     "data": {
      "text/plain": [
       "array(['Rk', 'Player', 'Pos', 'Age', 'Tm', 'G', 'GS', 'MPG', 'FG', 'FGA',\n",
       "       'FG%', '3P', '3PA', '3P%', '2P', '2PA', '2P%', 'eFG%', 'FT', 'FTA',\n",
       "       'FT%', 'ORB', 'DRB', 'TRB', 'AST', 'STL', 'BLK', 'TOV', 'PF',\n",
       "       'PS/G', 'MP', 'PER', 'TS%', '3PAr', 'FTr', 'ORB%', 'DRB%', 'TRB%',\n",
       "       'AST%', 'STL%', 'BLK%', 'TOV%', 'USG%', 'OWS', 'DWS', 'WS', 'WS/48',\n",
       "       'OBPM', 'DBPM', 'BPM', 'VORP'], dtype=object)"
      ]
     },
     "execution_count": 9,
     "metadata": {},
     "output_type": "execute_result"
    }
   ],
   "source": [
    "df.columns.values"
   ]
  },
  {
   "cell_type": "code",
   "execution_count": 11,
   "metadata": {
    "collapsed": true
   },
   "outputs": [],
   "source": [
    "df = df.dropna(axis=0, how='any')"
   ]
  },
  {
   "cell_type": "code",
   "execution_count": 13,
   "metadata": {},
   "outputs": [],
   "source": [
    "cols = list(df.columns.values[7:])"
   ]
  },
  {
   "cell_type": "code",
   "execution_count": 14,
   "metadata": {
    "collapsed": true
   },
   "outputs": [],
   "source": [
    "cols = [col for col in cols if col not in ['FG%','3P%','2P%','FT%']]"
   ]
  },
  {
   "cell_type": "code",
   "execution_count": 15,
   "metadata": {
    "collapsed": true
   },
   "outputs": [],
   "source": [
    "X = df[cols]"
   ]
  },
  {
   "cell_type": "code",
   "execution_count": 17,
   "metadata": {
    "collapsed": true
   },
   "outputs": [],
   "source": [
    "y = pd.DataFrame(X[['PS/G']], columns=['PPG'])"
   ]
  },
  {
   "cell_type": "code",
   "execution_count": 18,
   "metadata": {},
   "outputs": [
    {
     "data": {
      "text/plain": [
       "array(['MPG', 'FG', 'FGA', '3P', '3PA', '2P', '2PA', 'eFG%', 'FT', 'FTA',\n",
       "       'ORB', 'DRB', 'TRB', 'AST', 'STL', 'BLK', 'TOV', 'PF', 'PS/G', 'MP',\n",
       "       'PER', 'TS%', '3PAr', 'FTr', 'ORB%', 'DRB%', 'TRB%', 'AST%', 'STL%',\n",
       "       'BLK%', 'TOV%', 'USG%', 'OWS', 'DWS', 'WS', 'WS/48', 'OBPM', 'DBPM',\n",
       "       'BPM', 'VORP'], dtype=object)"
      ]
     },
     "execution_count": 18,
     "metadata": {},
     "output_type": "execute_result"
    }
   ],
   "source": [
    "X.columns.values"
   ]
  },
  {
   "cell_type": "code",
   "execution_count": 19,
   "metadata": {},
   "outputs": [
    {
     "data": {
      "text/plain": [
       "<matplotlib.axes._subplots.AxesSubplot at 0x110053150>"
      ]
     },
     "execution_count": 19,
     "metadata": {},
     "output_type": "execute_result"
    },
    {
     "data": {
      "image/png": "[encoded data removed]",
      "text/plain": [
       "<matplotlib.figure.Figure at 0x11002dc10>"
      ]
     },
     "metadata": {},
     "output_type": "display_data"
    }
   ],
   "source": [
    "fig, ax = plt.subplots(figsize=(15,15))\n",
    "sns.heatmap(X.corr(), ax=ax)"
   ]
  },
  {
   "cell_type": "code",
   "execution_count": 21,
   "metadata": {},
   "outputs": [
    {
     "data": {
      "text/plain": [
       "PS/G     1.000000\n",
       "FG       0.986056\n",
       "FGA      0.981868\n",
       "2PA      0.904187\n",
       "2P       0.896156\n",
       "MPG      0.882076\n",
       "FT       0.880778\n",
       "FTA      0.852424\n",
       "TOV      0.804580\n",
       "MP       0.773312\n",
       "WS       0.760575\n",
       "OWS      0.742799\n",
       "OBPM     0.727347\n",
       "PER      0.718597\n",
       "USG%     0.691316\n",
       "VORP     0.685448\n",
       "DRB      0.672184\n",
       "STL      0.667391\n",
       "DWS      0.621973\n",
       "BPM      0.620345\n",
       "AST      0.616426\n",
       "3P       0.611918\n",
       "TRB      0.611443\n",
       "3PA      0.608656\n",
       "PF       0.604776\n",
       "WS/48    0.479738\n",
       "TS%      0.388098\n",
       "ORB      0.367318\n",
       "BLK      0.362122\n",
       "AST%     0.322347\n",
       "eFG%     0.293465\n",
       "DBPM     0.097899\n",
       "DRB%     0.096999\n",
       "FTr      0.092397\n",
       "STL%     0.048186\n",
       "TRB%     0.046492\n",
       "BLK%     0.018822\n",
       "ORB%    -0.044078\n",
       "3PAr    -0.113249\n",
       "TOV%    -0.220216\n",
       "Name: PS/G, dtype: float64"
      ]
     },
     "execution_count": 21,
     "metadata": {},
     "output_type": "execute_result"
    }
   ],
   "source": [
    "X.corr()['PS/G'].sort_values(ascending=False)"
   ]
  },
  {
   "cell_type": "code",
   "execution_count": 23,
   "metadata": {},
   "outputs": [],
   "source": [
    "from sklearn.preprocessing import StandardScaler\n",
    "ss = StandardScaler()\n",
    "Xs = ss.fit_transform(X)\n",
    "Xs = pd.DataFrame(Xs, columns=cols)"
   ]
  },
  {
   "cell_type": "code",
   "execution_count": 24,
   "metadata": {},
   "outputs": [
    {
     "data": {
      "image/png": "[encoded data removed]",
      "text/plain": [
       "<matplotlib.figure.Figure at 0x110b29490>"
      ]
     },
     "metadata": {},
     "output_type": "display_data"
    }
   ],
   "source": [
    "fig = plt.figure(figsize=(20,7))\n",
    "ax = fig.gca()\n",
    "ax = sns.boxplot(data=Xs, ax=ax)#, notch=True)\n",
    "ax.set_xticklabels(cols, rotation=90)\n",
    "plt.show()"
   ]
  },
  {
   "cell_type": "code",
   "execution_count": 25,
   "metadata": {},
   "outputs": [
    {
     "name": "stdout",
     "output_type": "stream",
     "text": [
      "0\n"
     ]
    }
   ],
   "source": [
    "# checking for nan's\n",
    "count = 0\n",
    "for col in Xs.columns:\n",
    "    for i, row in enumerate(Xs[col]):\n",
    "        if np.isnan(row):\n",
    "            count += 1\n",
    "            print i, col, row\n",
    "print count"
   ]
  },
  {
   "cell_type": "code",
   "execution_count": null,
   "metadata": {
    "collapsed": true
   },
   "outputs": [],
   "source": []
  }
 ],
 "metadata": {
  "anaconda-cloud": {},
  "kernelspec": {
   "display_name": "Python [default]",
   "language": "python",
   "name": "python2"
  },
  "language_info": {
   "codemirror_mode": {
    "name": "ipython",
    "version": 2
   },
   "file_extension": ".py",
   "mimetype": "text/x-python",
   "name": "python",
   "nbconvert_exporter": "python",
   "pygments_lexer": "ipython2",
   "version": "2.7.13"
  }
 },
 "nbformat": 4,
 "nbformat_minor": 2
}
