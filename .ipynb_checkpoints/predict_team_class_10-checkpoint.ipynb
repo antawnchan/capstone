{
 "cells": [
  {
   "cell_type": "code",
   "execution_count": 1,
   "metadata": {},
   "outputs": [
    {
     "name": "stderr",
     "output_type": "stream",
     "text": [
      "/Users/anthony-mba/anaconda/lib/python2.7/site-packages/sklearn/cross_validation.py:44: DeprecationWarning: This module was deprecated in version 0.18 in favor of the model_selection module into which all the refactored classes and functions are moved. Also note that the interface of the new CV iterators are different from that of this module. This module will be removed in 0.20.\n",
      "  \"This module will be removed in 0.20.\", DeprecationWarning)\n"
     ]
    }
   ],
   "source": [
    "import pandas as pd\n",
    "import numpy as np\n",
    "import math\n",
    "import matplotlib.pyplot as plt\n",
    "import seaborn as sns\n",
    "import os\n",
    "from sklearn.cross_validation import train_test_split\n",
    "from sklearn.preprocessing import StandardScaler\n",
    "from sklearn.linear_model import LinearRegression, Lasso, LassoCV, Ridge, RidgeCV\n",
    "\n",
    "%matplotlib inline"
   ]
  },
  {
   "cell_type": "code",
   "execution_count": 4,
   "metadata": {
    "collapsed": true
   },
   "outputs": [],
   "source": [
    "all_data = pd.read_csv(\"./basketball_reference/NBA_2017_per_game.csv\")"
   ]
  },
  {
   "cell_type": "code",
   "execution_count": 5,
   "metadata": {
    "collapsed": true
   },
   "outputs": [],
   "source": [
    "team = \"GSW\""
   ]
  },
  {
   "cell_type": "code",
   "execution_count": 12,
   "metadata": {},
   "outputs": [
    {
     "data": {
      "text/plain": [
       "['Matt_Barnes',\n",
       " 'Ian_Clark',\n",
       " 'Stephen_Curry',\n",
       " 'Kevin_Durant',\n",
       " 'Draymond_Green',\n",
       " 'Andre_Iguodala',\n",
       " 'Damian_Jones',\n",
       " 'Shaun_Livingston',\n",
       " 'Kevon_Looney',\n",
       " 'James_Michael_McAdoo',\n",
       " 'Patrick_McCaw',\n",
       " 'JaVale_McGee',\n",
       " 'Zaza_Pachulia',\n",
       " 'Klay_Thompson',\n",
       " 'Anderson_Varejao',\n",
       " 'Briante_Weber',\n",
       " 'David_West']"
      ]
     },
     "execution_count": 12,
     "metadata": {},
     "output_type": "execute_result"
    }
   ],
   "source": [
    "team_players = all_data[all_data['Tm'] == team]['Player'].values\n",
    "[p.split(\"\\\\\")[0].replace(\" \", \"_\") for p in team_players]"
   ]
  },
  {
   "cell_type": "code",
   "execution_count": null,
   "metadata": {
    "collapsed": true
   },
   "outputs": [],
   "source": []
  },
  {
   "cell_type": "code",
   "execution_count": null,
   "metadata": {
    "collapsed": true
   },
   "outputs": [],
   "source": []
  },
  {
   "cell_type": "code",
   "execution_count": null,
   "metadata": {
    "collapsed": true
   },
   "outputs": [],
   "source": []
  },
  {
   "cell_type": "code",
   "execution_count": 2,
   "metadata": {
    "collapsed": true
   },
   "outputs": [],
   "source": [
    "# player_url = \"Curry_Stephen\"\n",
    "# player_url = \"Thompson_Klay\"\n",
    "# player_url = \"Durant_Kevin\"\n",
    "# player_url = \"Green_Draymond\"\n",
    "# player_url = \"James_LeBron\"\n",
    "# player_url = \"DeRozan_DeMar\"\n",
    "# player_url = \"Westbrook_Russell\"\n",
    "# player_url = \"Gobert_Rudy\"\n",
    "# player_url = \"Mills_Patty\"\n",
    "# player_url = \"Simmons_Jonathon\"\n",
    "\n",
    "player_url = \"Green_Draymond\"\n",
    "opp_team = \"SAS\"\n",
    "last_x_games = -5\n",
    "playoff_game = 1"
   ]
  },
  {
   "cell_type": "code",
   "execution_count": 80,
   "metadata": {},
   "outputs": [],
   "source": [
    "class predict_player:\n",
    "\n",
    "    df = None\n",
    "    player_url = \"Green_Draymond\"\n",
    "    opp_team = \"SAS\"\n",
    "    last_x_games = -5\n",
    "    playoff_game = 1\n",
    "    cols = None\n",
    "    \n",
    "#     def __init__(self):\n",
    "#         pass\n",
    "        \n",
    "#         print predict_player(player_url)\n",
    "    \n",
    "    \n",
    "    def predict_player(self, player_url = \"Green_Draymond\", opp_team = \"SAS\", last_x_games = -5, playoff_game = 1):\n",
    "        \n",
    "        self.player_url   = player_url\n",
    "        self.opp_team     = opp_team\n",
    "        self.last_x_games = last_x_games\n",
    "        self.playoff_game = playoff_game\n",
    "        \n",
    "        self.df = self.get_data(self.player_url)\n",
    "        \n",
    "        # setting wanted columns for dataframe\n",
    "        cols = list(self.df.columns.values[5:-1]) #[6:-1]\n",
    "        self.cols = [col for col in cols if col not in ['fg_pct','fg3_pct','ft_pct','pts']] + ['Home_Game'] # + ['playoff']\n",
    "\n",
    "        # setting training data as all data from player\n",
    "        X_train, X_test, y_train, y_test = self.set_train_test_split()#self.opp_team, self.last_x_games, self.playoff_game, self.df, cols)\n",
    "        \n",
    "        model = self.get_model(X_train, X_test, y_train, y_test)\n",
    "        \n",
    "#         return self.get_seed_data(X_test)\n",
    "        \n",
    "        predicted_ppg = self.get_player_prediction(model, self.get_seed_data(X_test))\n",
    "\n",
    "        return (predicted_ppg, X_test['mp'].mean())\n",
    "\n",
    "    \n",
    "    def get_data(self, player_url):\n",
    "        # setting empty dataframe\n",
    "        df = pd.DataFrame()\n",
    "\n",
    "        # retreiving data from csv files\n",
    "        for file in os.listdir(\"./basketball_reference/game_logs/\"):\n",
    "            if file.startswith(player_url):\n",
    "                filepath = \"./basketball_reference/game_logs/\" + file\n",
    "                print filepath\n",
    "                data = pd.read_csv(filepath)\n",
    "                df = df.append(data)\n",
    "\n",
    "        df = df.reset_index()\n",
    "\n",
    "        # deleting unnecessary or columns with NAN\n",
    "        del df['index']\n",
    "        del df['fg_pct']\n",
    "        del df['fg3_pct']\n",
    "        del df['ft_pct']\n",
    "        # del df['orb_pct']\n",
    "        # del df['plus_minus']\n",
    "\n",
    "        # data cleaning for all game_log files\n",
    "        df['date'] = pd.to_datetime(df['date'])\n",
    "        df.rename(columns={'loc': 'Home_Game'}, inplace=True)\n",
    "        df['Home_Game'] = [0 if item == \"@\" else 1 for item in df['Home_Game']]\n",
    "        df['result'] = [item[3:].replace(\")\",\"\") for item in df['result']]\n",
    "        df['result'] = df['result'].astype(float)\n",
    "        df['mp'] = [0 if pd.isnull(item) else round(float(item.split(\":\")[0]) + float(item.split(\":\")[1])/60. , 2) for item in df['mp']]\n",
    "        # df['playoff'] = df['playoff'].map(lambda x: x[-1])\n",
    "\n",
    "        df = df.dropna(axis=0, how='any')\n",
    "\n",
    "        return df\n",
    "    \n",
    "    \n",
    "    def set_train_test_split(self):#, opp_team, last_x_games, playoff_game, df, cols):\n",
    "    #     Xs = StandardScaler().fit_transform(df[cols])\n",
    "    #     Xs = pd.DataFrame(Xs, columns=X.columns)\n",
    "\n",
    "        # setting opponents mask\n",
    "        opponents = pd.concat([self.df[(self.df['opp'] == self.opp_team)], self.df[self.last_x_games:]])#['pts'] # df['playoff'] == playoff_game\n",
    "        # setting testing data based on team opponent and last 5 games\n",
    "        mask = opponents.index.values\n",
    "\n",
    "        # setting training data as all data from player\n",
    "        X_train = self.df[self.cols]\n",
    "        y_train = self.df[['pts']]\n",
    "        X_test = self.df.ix[mask,:][self.cols]\n",
    "        y_test = self.df.ix[mask,:][['pts']]\n",
    "\n",
    "        return (X_train, X_test, y_train, y_test)\n",
    "    \n",
    "    \n",
    "    def get_model(self, X_train, X_test, y_train, y_test):\n",
    "        model = RidgeCV().fit(X_train, y_train)\n",
    "    #     print model.score(X_train, y_train)\n",
    "    #     print model.score(X_test, y_test)\n",
    "        return model\n",
    "    \n",
    "    \n",
    "    def get_seed_data(self, X_test, random_data_rows=1, home_game=1, playoff_game=1, game_started=1):\n",
    "        # randomly seeding data based on mean/std from a given opponent\n",
    "        seed = []\n",
    "        for i in range(random_data_rows):\n",
    "            row = []\n",
    "            for col in self.cols:\n",
    "                if col == \"Home_Game\":\n",
    "                    row.append(home_game) # home game == 1, away game == 0\n",
    "        #             row.append(np.random.choice([0,1]))\n",
    "                elif col == 'gs':\n",
    "                    row.append(game_started)\n",
    "                elif col == 'playoff_game':\n",
    "                    row.append(playoff_game)\n",
    "                else:    \n",
    "                    std = X_test[col].std()\n",
    "                    if std == 0:\n",
    "                        row.append(0)\n",
    "                    else:\n",
    "                        row.append(X_test[col].mean())\n",
    "    #                     row.append(np.random.normal(X_test[col].mean(), X_test[col].std()))\n",
    "            seed.append(row)\n",
    "\n",
    "    #     print ridge.score(X_test, y_test)\n",
    "        seed = pd.DataFrame(seed, columns=self.cols)\n",
    "\n",
    "        return seed\n",
    "    \n",
    "    \n",
    "    def get_player_prediction(self, model, seed):\n",
    "    #     print model.predict(seed).mean()\n",
    "        return model.predict(seed).mean()\n",
    "    "
   ]
  },
  {
   "cell_type": "code",
   "execution_count": 81,
   "metadata": {},
   "outputs": [
    {
     "name": "stdout",
     "output_type": "stream",
     "text": [
      "./basketball_reference/game_logs/Green_Draymond_2013.csv\n",
      "./basketball_reference/game_logs/Green_Draymond_2014.csv\n",
      "./basketball_reference/game_logs/Green_Draymond_2015.csv\n",
      "./basketball_reference/game_logs/Green_Draymond_2016.csv\n",
      "./basketball_reference/game_logs/Green_Draymond_2017.csv\n"
     ]
    },
    {
     "data": {
      "text/plain": [
       "(8.3808947292363118, 26.864285714285714)"
      ]
     },
     "execution_count": 81,
     "metadata": {},
     "output_type": "execute_result"
    }
   ],
   "source": [
    "pp = predict_player()\n",
    "pp.predict_player()"
   ]
  },
  {
   "cell_type": "code",
   "execution_count": 85,
   "metadata": {},
   "outputs": [
    {
     "name": "stdout",
     "output_type": "stream",
     "text": [
      "./basketball_reference/game_logs/Green_Draymond_2013.csv\n",
      "./basketball_reference/game_logs/Green_Draymond_2014.csv\n",
      "./basketball_reference/game_logs/Green_Draymond_2015.csv\n",
      "./basketball_reference/game_logs/Green_Draymond_2016.csv\n",
      "./basketball_reference/game_logs/Green_Draymond_2017.csv\n",
      "(8.3808947292363118, 26.864285714285714)\n",
      "./basketball_reference/game_logs/Durant_Kevin_2013.csv\n",
      "./basketball_reference/game_logs/Durant_Kevin_2014.csv\n",
      "./basketball_reference/game_logs/Durant_Kevin_2015.csv\n",
      "./basketball_reference/game_logs/Durant_Kevin_2016.csv\n",
      "./basketball_reference/game_logs/Durant_Kevin_2017.csv\n",
      "(23.176555312312015, 34.366470588235295)\n",
      "./basketball_reference/game_logs/Curry_Stephen_2013.csv\n",
      "./basketball_reference/game_logs/Curry_Stephen_2014.csv\n",
      "./basketball_reference/game_logs/Curry_Stephen_2015.csv\n",
      "./basketball_reference/game_logs/Curry_Stephen_2016.csv\n",
      "./basketball_reference/game_logs/Curry_Stephen_2017.csv\n",
      "(26.250424150320491, 34.664500000000004)\n",
      "./basketball_reference/game_logs/Thompson_Klay_2013.csv\n",
      "./basketball_reference/game_logs/Thompson_Klay_2014.csv\n",
      "./basketball_reference/game_logs/Thompson_Klay_2015.csv\n",
      "./basketball_reference/game_logs/Thompson_Klay_2016.csv\n",
      "./basketball_reference/game_logs/Thompson_Klay_2017.csv\n",
      "(17.227724136788193, 34.35681818181819)\n",
      "./basketball_reference/game_logs/James_LeBron_2013.csv\n",
      "./basketball_reference/game_logs/James_LeBron_2014.csv\n",
      "./basketball_reference/game_logs/James_LeBron_2015.csv\n",
      "./basketball_reference/game_logs/James_LeBron_2016.csv\n",
      "./basketball_reference/game_logs/James_LeBron_2017.csv\n",
      "(25.500218598514, 38.9)\n"
     ]
    }
   ],
   "source": [
    "print predict_player().predict_player()\n",
    "print predict_player().predict_player(\"Durant_Kevin\")\n",
    "print predict_player().predict_player(\"Curry_Stephen\")\n",
    "print predict_player().predict_player(\"Thompson_Klay\")\n",
    "print predict_player().predict_player(\"James_LeBron\")"
   ]
  },
  {
   "cell_type": "code",
   "execution_count": null,
   "metadata": {
    "collapsed": true
   },
   "outputs": [],
   "source": []
  }
 ],
 "metadata": {
  "anaconda-cloud": {},
  "kernelspec": {
   "display_name": "Python [default]",
   "language": "python",
   "name": "python2"
  },
  "language_info": {
   "codemirror_mode": {
    "name": "ipython",
    "version": 2
   },
   "file_extension": ".py",
   "mimetype": "text/x-python",
   "name": "python",
   "nbconvert_exporter": "python",
   "pygments_lexer": "ipython2",
   "version": "2.7.13"
  }
 },
 "nbformat": 4,
 "nbformat_minor": 2
}
