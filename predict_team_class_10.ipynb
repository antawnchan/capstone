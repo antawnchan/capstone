{
 "cells": [
  {
   "cell_type": "code",
   "execution_count": 94,
   "metadata": {},
   "outputs": [],
   "source": [
    "import pandas as pd\n",
    "import numpy as np\n",
    "import math\n",
    "import matplotlib.pyplot as plt\n",
    "import seaborn as sns\n",
    "import os\n",
    "from sklearn.cross_validation import train_test_split\n",
    "from sklearn.preprocessing import StandardScaler\n",
    "from sklearn.linear_model import LinearRegression, Lasso, LassoCV, Ridge, RidgeCV\n",
    "\n",
    "%matplotlib inline"
   ]
  },
  {
   "cell_type": "code",
   "execution_count": null,
   "metadata": {
    "collapsed": true
   },
   "outputs": [],
   "source": []
  },
  {
   "cell_type": "code",
   "execution_count": null,
   "metadata": {
    "collapsed": true
   },
   "outputs": [],
   "source": []
  },
  {
   "cell_type": "code",
   "execution_count": 95,
   "metadata": {
    "collapsed": true
   },
   "outputs": [],
   "source": [
    "# player_url = \"Curry_Stephen\"\n",
    "# player_url = \"Thompson_Klay\"\n",
    "# player_url = \"Durant_Kevin\"\n",
    "# player_url = \"Green_Draymond\"\n",
    "# player_url = \"James_LeBron\"\n",
    "# player_url = \"DeRozan_DeMar\"\n",
    "# player_url = \"Westbrook_Russell\"\n",
    "# player_url = \"Gobert_Rudy\"\n",
    "# player_url = \"Mills_Patty\"\n",
    "# player_url = \"Simmons_Jonathon\"\n",
    "\n",
    "player_url = \"Green_Draymond\"\n",
    "opp_team = \"SAS\"\n",
    "last_x_games = -5\n",
    "playoff_game = 1"
   ]
  },
  {
   "cell_type": "code",
   "execution_count": 99,
   "metadata": {},
   "outputs": [
    {
     "ename": "SyntaxError",
     "evalue": "invalid syntax (<ipython-input-99-f77d363b6b0e>, line 20)",
     "output_type": "error",
     "traceback": [
      "\u001b[0;36m  File \u001b[0;32m\"<ipython-input-99-f77d363b6b0e>\"\u001b[0;36m, line \u001b[0;32m20\u001b[0m\n\u001b[0;31m    self.cols = [col for col in cols if col not in ['fg_pct','fg3_pct','ft_pct','pts']] + ['Home_Game'] # + ['playoff']\u001b[0m\n\u001b[0m       ^\u001b[0m\n\u001b[0;31mSyntaxError\u001b[0m\u001b[0;31m:\u001b[0m invalid syntax\n"
     ]
    }
   ],
   "source": [
    "class predict_player:\n",
    "\n",
    "    df = None\n",
    "    player_url = \"Green_Draymond\"\n",
    "    opp_team = \"SAS\"\n",
    "    last_x_games = -5\n",
    "    playoff_game = 1\n",
    "    cols = None\n",
    "\n",
    "    def predict_player(self, player_url = \"Green_Draymond\", opp_team = \"SAS\", last_x_games = -5, playoff_game = 1):\n",
    "        #initializing global variables\n",
    "        self.player_url   = player_url\n",
    "        self.opp_team     = opp_team\n",
    "        self.last_x_games = last_x_games\n",
    "        self.playoff_game = playoff_game\n",
    "        self.df = self.get_data(self.player_url)\n",
    "        \n",
    "        # setting desired columns for dataframe\n",
    "        cols = list(self.df.columns.values[5:-1]) #[6:-1]\n",
    "        self.cols = [col for col in cols if col not in ['fg_pct','fg3_pct','ft_pct','pts']] + ['Home_Game'] # + ['playoff']\n",
    "\n",
    "        # setting training data as all data from player\n",
    "        X_train, X_test, y_train, y_test = self.set_train_test_split()#self.opp_team, self.last_x_games, self.playoff_game, self.df, cols)\n",
    "        \n",
    "        model = self.get_model(X_train, X_test, y_train, y_test)\n",
    "        \n",
    "#         return self.get_seed_data(X_test)\n",
    "        \n",
    "        predicted_ppg = self.get_player_prediction(model, self.get_seed_data(X_test))\n",
    "\n",
    "        return (predicted_ppg, X_test['mp'].mean())\n",
    "\n",
    "    \n",
    "    def get_data(self, player_url):\n",
    "        # setting empty dataframe\n",
    "        df = pd.DataFrame()\n",
    "\n",
    "        # retreiving data from csv files\n",
    "        for file in os.listdir(\"./basketball_reference/game_logs/\"):\n",
    "            if file.startswith(player_url):\n",
    "                filepath = \"./basketball_reference/game_logs/\" + file\n",
    "                print filepath\n",
    "                data = pd.read_csv(filepath)\n",
    "                df = df.append(data)\n",
    "\n",
    "        df = df.reset_index()\n",
    "\n",
    "        # deleting unnecessary or columns with NAN\n",
    "        del df['index']\n",
    "        del df['fg_pct']\n",
    "        del df['fg3_pct']\n",
    "        del df['ft_pct']\n",
    "        # del df['orb_pct']\n",
    "        # del df['plus_minus']\n",
    "\n",
    "        # data cleaning for all game_log files\n",
    "        df['date'] = pd.to_datetime(df['date'])\n",
    "        df.rename(columns={'loc': 'Home_Game'}, inplace=True)\n",
    "        df['Home_Game'] = [0 if item == \"@\" else 1 for item in df['Home_Game']]\n",
    "        df['result'] = [item[3:].replace(\")\",\"\") for item in df['result']]\n",
    "        df['result'] = df['result'].astype(float)\n",
    "        df['mp'] = [0 if pd.isnull(item) else round(float(item.split(\":\")[0]) + float(item.split(\":\")[1])/60. , 2) for item in df['mp']]\n",
    "        # df['playoff'] = df['playoff'].map(lambda x: x[-1])\n",
    "\n",
    "        df = df.dropna(axis=0, how='any')\n",
    "\n",
    "        return df\n",
    "    \n",
    "    \n",
    "    def set_train_test_split(self):#, opp_team, last_x_games, playoff_game, df, cols):\n",
    "    #     Xs = StandardScaler().fit_transform(df[cols])\n",
    "    #     Xs = pd.DataFrame(Xs, columns=X.columns)\n",
    "\n",
    "        # setting opponents mask\n",
    "        opponents = pd.concat([self.df[(self.df['opp'] == self.opp_team)], self.df[self.last_x_games:]])#['pts'] # df['playoff'] == playoff_game\n",
    "        # setting testing data based on team opponent and last 5 games\n",
    "        mask = opponents.index.values\n",
    "\n",
    "        # setting training data as all data from player\n",
    "        X_train = self.df[self.cols]\n",
    "        y_train = self.df[['pts']]\n",
    "        X_test = self.df.ix[mask,:][self.cols]\n",
    "        y_test = self.df.ix[mask,:][['pts']]\n",
    "\n",
    "        return (X_train, X_test, y_train, y_test)\n",
    "    \n",
    "    \n",
    "    def get_model(self, X_train, X_test, y_train, y_test):\n",
    "        model = RidgeCV().fit(X_train, y_train)\n",
    "    #     print model.score(X_train, y_train)\n",
    "    #     print model.score(X_test, y_test)\n",
    "        return model\n",
    "    \n",
    "    \n",
    "    def get_seed_data(self, X_test, random_data_rows=1, home_game=1, playoff_game=1, game_started=1):\n",
    "        # randomly seeding data based on mean/std from a given opponent\n",
    "        seed = []\n",
    "        for i in range(random_data_rows):\n",
    "            row = []\n",
    "            for col in self.cols:\n",
    "                if col == \"Home_Game\":\n",
    "                    row.append(home_game) # home game == 1, away game == 0\n",
    "        #             row.append(np.random.choice([0,1]))\n",
    "                elif col == 'gs':\n",
    "                    row.append(game_started)\n",
    "                elif col == 'playoff_game':\n",
    "                    row.append(playoff_game)\n",
    "                else:    \n",
    "                    std = X_test[col].std()\n",
    "                    if std == 0:\n",
    "                        row.append(0)\n",
    "                    else:\n",
    "                        row.append(X_test[col].mean())\n",
    "    #                     row.append(np.random.normal(X_test[col].mean(), X_test[col].std()))\n",
    "            seed.append(row)\n",
    "\n",
    "    #     print ridge.score(X_test, y_test)\n",
    "        seed = pd.DataFrame(seed, columns=self.cols)\n",
    "\n",
    "        return seed\n",
    "    \n",
    "    \n",
    "    def get_player_prediction(self, model, seed):\n",
    "    #     print model.predict(seed).mean()\n",
    "        return model.predict(seed).mean()\n",
    "    "
   ]
  },
  {
   "cell_type": "code",
   "execution_count": 100,
   "metadata": {},
   "outputs": [
    {
     "name": "stdout",
     "output_type": "stream",
     "text": [
      "./basketball_reference/game_logs/Kevin_Durant_2015.csv\n",
      "./basketball_reference/game_logs/Kevin_Durant_2016.csv\n",
      "./basketball_reference/game_logs/Kevin_Durant_2017.csv\n"
     ]
    },
    {
     "ename": "ValueError",
     "evalue": "could not convert string to float: SAS",
     "output_type": "error",
     "traceback": [
      "\u001b[0;31m---------------------------------------------------------------------------\u001b[0m",
      "\u001b[0;31mValueError\u001b[0m                                Traceback (most recent call last)",
      "\u001b[0;32m<ipython-input-100-3e79bd380fcc>\u001b[0m in \u001b[0;36m<module>\u001b[0;34m()\u001b[0m\n\u001b[1;32m      1\u001b[0m \u001b[0;31m# print predict_player().predict_player()\u001b[0m\u001b[0;34m\u001b[0m\u001b[0;34m\u001b[0m\u001b[0m\n\u001b[0;32m----> 2\u001b[0;31m \u001b[0;32mprint\u001b[0m \u001b[0mpredict_player\u001b[0m\u001b[0;34m(\u001b[0m\u001b[0;34m)\u001b[0m\u001b[0;34m.\u001b[0m\u001b[0mpredict_player\u001b[0m\u001b[0;34m(\u001b[0m\u001b[0;34m\"Kevin_Durant\"\u001b[0m\u001b[0;34m)\u001b[0m\u001b[0;34m\u001b[0m\u001b[0m\n\u001b[0m\u001b[1;32m      3\u001b[0m \u001b[0;31m# print predict_player().predict_player(\"Curry_Stephen\")\u001b[0m\u001b[0;34m\u001b[0m\u001b[0;34m\u001b[0m\u001b[0m\n\u001b[1;32m      4\u001b[0m \u001b[0;31m# print predict_player().predict_player(\"Thompson_Klay\")\u001b[0m\u001b[0;34m\u001b[0m\u001b[0;34m\u001b[0m\u001b[0m\n\u001b[1;32m      5\u001b[0m \u001b[0;31m# print predict_player().predict_player(\"James_LeBron\")\u001b[0m\u001b[0;34m\u001b[0m\u001b[0;34m\u001b[0m\u001b[0m\n",
      "\u001b[0;32m<ipython-input-96-1da862f0efd5>\u001b[0m in \u001b[0;36mpredict_player\u001b[0;34m(self, player_url, opp_team, last_x_games, playoff_game)\u001b[0m\n\u001b[1;32m     23\u001b[0m         \u001b[0mX_train\u001b[0m\u001b[0;34m,\u001b[0m \u001b[0mX_test\u001b[0m\u001b[0;34m,\u001b[0m \u001b[0my_train\u001b[0m\u001b[0;34m,\u001b[0m \u001b[0my_test\u001b[0m \u001b[0;34m=\u001b[0m \u001b[0mself\u001b[0m\u001b[0;34m.\u001b[0m\u001b[0mset_train_test_split\u001b[0m\u001b[0;34m(\u001b[0m\u001b[0;34m)\u001b[0m\u001b[0;31m#self.opp_team, self.last_x_games, self.playoff_game, self.df, cols)\u001b[0m\u001b[0;34m\u001b[0m\u001b[0m\n\u001b[1;32m     24\u001b[0m \u001b[0;34m\u001b[0m\u001b[0m\n\u001b[0;32m---> 25\u001b[0;31m         \u001b[0mmodel\u001b[0m \u001b[0;34m=\u001b[0m \u001b[0mself\u001b[0m\u001b[0;34m.\u001b[0m\u001b[0mget_model\u001b[0m\u001b[0;34m(\u001b[0m\u001b[0mX_train\u001b[0m\u001b[0;34m,\u001b[0m \u001b[0mX_test\u001b[0m\u001b[0;34m,\u001b[0m \u001b[0my_train\u001b[0m\u001b[0;34m,\u001b[0m \u001b[0my_test\u001b[0m\u001b[0;34m)\u001b[0m\u001b[0;34m\u001b[0m\u001b[0m\n\u001b[0m\u001b[1;32m     26\u001b[0m \u001b[0;34m\u001b[0m\u001b[0m\n\u001b[1;32m     27\u001b[0m \u001b[0;31m#         return self.get_seed_data(X_test)\u001b[0m\u001b[0;34m\u001b[0m\u001b[0;34m\u001b[0m\u001b[0m\n",
      "\u001b[0;32m<ipython-input-96-1da862f0efd5>\u001b[0m in \u001b[0;36mget_model\u001b[0;34m(self, X_train, X_test, y_train, y_test)\u001b[0m\n\u001b[1;32m     87\u001b[0m \u001b[0;34m\u001b[0m\u001b[0m\n\u001b[1;32m     88\u001b[0m     \u001b[0;32mdef\u001b[0m \u001b[0mget_model\u001b[0m\u001b[0;34m(\u001b[0m\u001b[0mself\u001b[0m\u001b[0;34m,\u001b[0m \u001b[0mX_train\u001b[0m\u001b[0;34m,\u001b[0m \u001b[0mX_test\u001b[0m\u001b[0;34m,\u001b[0m \u001b[0my_train\u001b[0m\u001b[0;34m,\u001b[0m \u001b[0my_test\u001b[0m\u001b[0;34m)\u001b[0m\u001b[0;34m:\u001b[0m\u001b[0;34m\u001b[0m\u001b[0m\n\u001b[0;32m---> 89\u001b[0;31m         \u001b[0mmodel\u001b[0m \u001b[0;34m=\u001b[0m \u001b[0mRidgeCV\u001b[0m\u001b[0;34m(\u001b[0m\u001b[0;34m)\u001b[0m\u001b[0;34m.\u001b[0m\u001b[0mfit\u001b[0m\u001b[0;34m(\u001b[0m\u001b[0mX_train\u001b[0m\u001b[0;34m,\u001b[0m \u001b[0my_train\u001b[0m\u001b[0;34m)\u001b[0m\u001b[0;34m\u001b[0m\u001b[0m\n\u001b[0m\u001b[1;32m     90\u001b[0m     \u001b[0;31m#     print model.score(X_train, y_train)\u001b[0m\u001b[0;34m\u001b[0m\u001b[0;34m\u001b[0m\u001b[0m\n\u001b[1;32m     91\u001b[0m     \u001b[0;31m#     print model.score(X_test, y_test)\u001b[0m\u001b[0;34m\u001b[0m\u001b[0;34m\u001b[0m\u001b[0m\n",
      "\u001b[0;32m/Users/anthony-mba/anaconda/lib/python2.7/site-packages/sklearn/linear_model/ridge.pyc\u001b[0m in \u001b[0;36mfit\u001b[0;34m(self, X, y, sample_weight)\u001b[0m\n\u001b[1;32m   1080\u001b[0m                                   \u001b[0mgcv_mode\u001b[0m\u001b[0;34m=\u001b[0m\u001b[0mself\u001b[0m\u001b[0;34m.\u001b[0m\u001b[0mgcv_mode\u001b[0m\u001b[0;34m,\u001b[0m\u001b[0;34m\u001b[0m\u001b[0m\n\u001b[1;32m   1081\u001b[0m                                   store_cv_values=self.store_cv_values)\n\u001b[0;32m-> 1082\u001b[0;31m             \u001b[0mestimator\u001b[0m\u001b[0;34m.\u001b[0m\u001b[0mfit\u001b[0m\u001b[0;34m(\u001b[0m\u001b[0mX\u001b[0m\u001b[0;34m,\u001b[0m \u001b[0my\u001b[0m\u001b[0;34m,\u001b[0m \u001b[0msample_weight\u001b[0m\u001b[0;34m=\u001b[0m\u001b[0msample_weight\u001b[0m\u001b[0;34m)\u001b[0m\u001b[0;34m\u001b[0m\u001b[0m\n\u001b[0m\u001b[1;32m   1083\u001b[0m             \u001b[0mself\u001b[0m\u001b[0;34m.\u001b[0m\u001b[0malpha_\u001b[0m \u001b[0;34m=\u001b[0m \u001b[0mestimator\u001b[0m\u001b[0;34m.\u001b[0m\u001b[0malpha_\u001b[0m\u001b[0;34m\u001b[0m\u001b[0m\n\u001b[1;32m   1084\u001b[0m             \u001b[0;32mif\u001b[0m \u001b[0mself\u001b[0m\u001b[0;34m.\u001b[0m\u001b[0mstore_cv_values\u001b[0m\u001b[0;34m:\u001b[0m\u001b[0;34m\u001b[0m\u001b[0m\n",
      "\u001b[0;32m/Users/anthony-mba/anaconda/lib/python2.7/site-packages/sklearn/linear_model/ridge.pyc\u001b[0m in \u001b[0;36mfit\u001b[0;34m(self, X, y, sample_weight)\u001b[0m\n\u001b[1;32m    957\u001b[0m         \"\"\"\n\u001b[1;32m    958\u001b[0m         X, y = check_X_y(X, y, ['csr', 'csc', 'coo'], dtype=np.float64,\n\u001b[0;32m--> 959\u001b[0;31m                          multi_output=True, y_numeric=True)\n\u001b[0m\u001b[1;32m    960\u001b[0m         \u001b[0mn_samples\u001b[0m\u001b[0;34m,\u001b[0m \u001b[0mn_features\u001b[0m \u001b[0;34m=\u001b[0m \u001b[0mX\u001b[0m\u001b[0;34m.\u001b[0m\u001b[0mshape\u001b[0m\u001b[0;34m\u001b[0m\u001b[0m\n\u001b[1;32m    961\u001b[0m \u001b[0;34m\u001b[0m\u001b[0m\n",
      "\u001b[0;32m/Users/anthony-mba/anaconda/lib/python2.7/site-packages/sklearn/utils/validation.pyc\u001b[0m in \u001b[0;36mcheck_X_y\u001b[0;34m(X, y, accept_sparse, dtype, order, copy, force_all_finite, ensure_2d, allow_nd, multi_output, ensure_min_samples, ensure_min_features, y_numeric, warn_on_dtype, estimator)\u001b[0m\n\u001b[1;32m    519\u001b[0m     X = check_array(X, accept_sparse, dtype, order, copy, force_all_finite,\n\u001b[1;32m    520\u001b[0m                     \u001b[0mensure_2d\u001b[0m\u001b[0;34m,\u001b[0m \u001b[0mallow_nd\u001b[0m\u001b[0;34m,\u001b[0m \u001b[0mensure_min_samples\u001b[0m\u001b[0;34m,\u001b[0m\u001b[0;34m\u001b[0m\u001b[0m\n\u001b[0;32m--> 521\u001b[0;31m                     ensure_min_features, warn_on_dtype, estimator)\n\u001b[0m\u001b[1;32m    522\u001b[0m     \u001b[0;32mif\u001b[0m \u001b[0mmulti_output\u001b[0m\u001b[0;34m:\u001b[0m\u001b[0;34m\u001b[0m\u001b[0m\n\u001b[1;32m    523\u001b[0m         y = check_array(y, 'csr', force_all_finite=True, ensure_2d=False,\n",
      "\u001b[0;32m/Users/anthony-mba/anaconda/lib/python2.7/site-packages/sklearn/utils/validation.pyc\u001b[0m in \u001b[0;36mcheck_array\u001b[0;34m(array, accept_sparse, dtype, order, copy, force_all_finite, ensure_2d, allow_nd, ensure_min_samples, ensure_min_features, warn_on_dtype, estimator)\u001b[0m\n\u001b[1;32m    380\u001b[0m                                       force_all_finite)\n\u001b[1;32m    381\u001b[0m     \u001b[0;32melse\u001b[0m\u001b[0;34m:\u001b[0m\u001b[0;34m\u001b[0m\u001b[0m\n\u001b[0;32m--> 382\u001b[0;31m         \u001b[0marray\u001b[0m \u001b[0;34m=\u001b[0m \u001b[0mnp\u001b[0m\u001b[0;34m.\u001b[0m\u001b[0marray\u001b[0m\u001b[0;34m(\u001b[0m\u001b[0marray\u001b[0m\u001b[0;34m,\u001b[0m \u001b[0mdtype\u001b[0m\u001b[0;34m=\u001b[0m\u001b[0mdtype\u001b[0m\u001b[0;34m,\u001b[0m \u001b[0morder\u001b[0m\u001b[0;34m=\u001b[0m\u001b[0morder\u001b[0m\u001b[0;34m,\u001b[0m \u001b[0mcopy\u001b[0m\u001b[0;34m=\u001b[0m\u001b[0mcopy\u001b[0m\u001b[0;34m)\u001b[0m\u001b[0;34m\u001b[0m\u001b[0m\n\u001b[0m\u001b[1;32m    383\u001b[0m \u001b[0;34m\u001b[0m\u001b[0m\n\u001b[1;32m    384\u001b[0m         \u001b[0;32mif\u001b[0m \u001b[0mensure_2d\u001b[0m\u001b[0;34m:\u001b[0m\u001b[0;34m\u001b[0m\u001b[0m\n",
      "\u001b[0;31mValueError\u001b[0m: could not convert string to float: SAS"
     ]
    }
   ],
   "source": [
    "# print predict_player().predict_player()\n",
    "print predict_player().predict_player(\"Kevin_Durant\")\n",
    "# print predict_player().predict_player(\"Curry_Stephen\")\n",
    "# print predict_player().predict_player(\"Thompson_Klay\")\n",
    "# print predict_player().predict_player(\"James_LeBron\")"
   ]
  },
  {
   "cell_type": "code",
   "execution_count": null,
   "metadata": {
    "collapsed": true
   },
   "outputs": [],
   "source": []
  },
  {
   "cell_type": "code",
   "execution_count": 89,
   "metadata": {
    "collapsed": true
   },
   "outputs": [],
   "source": [
    "all_data = pd.read_csv(\"./basketball_reference/NBA_2017_per_game.csv\")"
   ]
  },
  {
   "cell_type": "code",
   "execution_count": 90,
   "metadata": {
    "collapsed": true
   },
   "outputs": [],
   "source": [
    "team = \"GSW\""
   ]
  },
  {
   "cell_type": "code",
   "execution_count": 91,
   "metadata": {},
   "outputs": [],
   "source": [
    "team_players = all_data[all_data['Tm'] == team]['Player'].values\n",
    "team_players = [p.split(\"\\\\\")[0].replace(\" \", \"_\") for p in team_players]"
   ]
  },
  {
   "cell_type": "code",
   "execution_count": 92,
   "metadata": {},
   "outputs": [
    {
     "data": {
      "text/plain": [
       "['Matt_Barnes',\n",
       " 'Ian_Clark',\n",
       " 'Stephen_Curry',\n",
       " 'Kevin_Durant',\n",
       " 'Draymond_Green',\n",
       " 'Andre_Iguodala',\n",
       " 'Damian_Jones',\n",
       " 'Shaun_Livingston',\n",
       " 'Kevon_Looney',\n",
       " 'James_Michael_McAdoo',\n",
       " 'Patrick_McCaw',\n",
       " 'JaVale_McGee',\n",
       " 'Zaza_Pachulia',\n",
       " 'Klay_Thompson',\n",
       " 'Anderson_Varejao',\n",
       " 'Briante_Weber',\n",
       " 'David_West']"
      ]
     },
     "execution_count": 92,
     "metadata": {},
     "output_type": "execute_result"
    }
   ],
   "source": [
    "team_players"
   ]
  }
 ],
 "metadata": {
  "anaconda-cloud": {},
  "kernelspec": {
   "display_name": "Python [default]",
   "language": "python",
   "name": "python2"
  },
  "language_info": {
   "codemirror_mode": {
    "name": "ipython",
    "version": 2
   },
   "file_extension": ".py",
   "mimetype": "text/x-python",
   "name": "python",
   "nbconvert_exporter": "python",
   "pygments_lexer": "ipython2",
   "version": "2.7.13"
  }
 },
 "nbformat": 4,
 "nbformat_minor": 2
}
