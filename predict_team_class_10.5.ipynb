{
 "cells": [
  {
   "cell_type": "markdown",
   "metadata": {},
   "source": [
    "# redo train test split"
   ]
  },
  {
   "cell_type": "code",
   "execution_count": 1,
   "metadata": {},
   "outputs": [
    {
     "name": "stderr",
     "output_type": "stream",
     "text": [
      "/Users/anthony-mba/anaconda/lib/python2.7/site-packages/sklearn/cross_validation.py:44: DeprecationWarning: This module was deprecated in version 0.18 in favor of the model_selection module into which all the refactored classes and functions are moved. Also note that the interface of the new CV iterators are different from that of this module. This module will be removed in 0.20.\n",
      "  \"This module will be removed in 0.20.\", DeprecationWarning)\n"
     ]
    }
   ],
   "source": [
    "import pandas as pd\n",
    "import numpy as np\n",
    "import math\n",
    "import matplotlib.pyplot as plt\n",
    "import seaborn as sns\n",
    "import os\n",
    "import datetime as dt\n",
    "from sklearn.cross_validation import train_test_split\n",
    "from sklearn.preprocessing import StandardScaler\n",
    "from sklearn.linear_model import LinearRegression, Lasso, LassoCV, Ridge, RidgeCV\n",
    "\n",
    "%matplotlib inline"
   ]
  },
  {
   "cell_type": "code",
   "execution_count": 2,
   "metadata": {
    "collapsed": true
   },
   "outputs": [],
   "source": [
    "# player_url = \"Curry_Stephen\"\n",
    "# player_url = \"Thompson_Klay\"\n",
    "# player_url = \"Durant_Kevin\"\n",
    "# player_url = \"Green_Draymond\"\n",
    "# player_url = \"James_LeBron\"\n",
    "# player_url = \"DeRozan_DeMar\"\n",
    "# player_url = \"Westbrook_Russell\"\n",
    "# player_url = \"Gobert_Rudy\"\n",
    "# player_url = \"Mills_Patty\"\n",
    "# player_url = \"Simmons_Jonathon\"\n",
    "\n",
    "player_url = \"Green_Draymond\"\n",
    "opp_team = \"SAS\"\n",
    "last_x_games = -5\n",
    "playoff_game = 1"
   ]
  },
  {
   "cell_type": "code",
   "execution_count": 3,
   "metadata": {
    "collapsed": true
   },
   "outputs": [],
   "source": [
    "class predict_player:\n",
    "\n",
    "    # class initialized variables\n",
    "    df             = None\n",
    "    cols           = None\n",
    "    opponents_mask = None\n",
    "    model          = None\n",
    "    predicted_ppg  = None\n",
    "    seed           = None\n",
    "    \n",
    "    X_train        = None\n",
    "    X_test         = None\n",
    "    y_train        = None\n",
    "    y_test         = None\n",
    "    target_X       = None\n",
    "    target_y       = None\n",
    "    \n",
    "    # user initialized variables\n",
    "    player_url     = None\n",
    "    opp_team       = None\n",
    "    last_x_games   = None\n",
    "    playoff_game   = None\n",
    "    home_game      = None\n",
    "    game_started   = None\n",
    "    player_year    = \"\"\n",
    "    before_date    = None\n",
    "    \n",
    "    def __init__(self, player_url = \"Stephen_Curry\", opp_team = None, last_x_games = 5, playoff_game = None, home_game = None, game_started = None, player_year = \"\", before_date = dt.datetime.today()):\n",
    "        '''\n",
    "        player_url    : default = \"Stephen_Curry\"\n",
    "        opposing_team : default = None, ex: 'SAS'\n",
    "        last_x_games  : default = 5, last 5 games to set as average prediction. Will always grab last 5 games regardless of playoff_game, home_game, or game_started.\n",
    "        playoff_game  : default = None, (0,1)\n",
    "        home_game     : default = None, (0,1)\n",
    "        game_started  : default = None, (0,1)\n",
    "        player_year   : default = \"\", (2017, 2016, 2015, 2014)\n",
    "        before_date   : default = Today, ex: \"2017-05-20\" = \"YYYY-mm-dd\"\n",
    "        '''\n",
    "        self.player_url   = player_url\n",
    "        self.opp_team     = opp_team\n",
    "        if last_x_games != None:\n",
    "            self.last_x_games = np.abs(last_x_games) * -1\n",
    "        self.playoff_game = playoff_game\n",
    "        self.home_game    = home_game\n",
    "        self.game_started = game_started\n",
    "        self.player_year  = str(player_year)\n",
    "        self.before_date  = before_date\n",
    "        if type(before_date) == str:\n",
    "            self.before_date  = dt.datetime.strptime(before_date, \"%Y-%m-%d\")\n",
    "        self.df           = self.get_data()\n",
    "        \n",
    "        \n",
    "    \n",
    "    def predict_player(self):#, opp_team = \"GSW\", last_x_games = -5, playoff_game = 1, home_game = 1, game_started = 1):\n",
    "        #initializing global variables\n",
    "#         if player_url == None: self.player_url = player_url\n",
    "#         self.opp_team     = opp_team\n",
    "#         self.last_x_games = np.abs(last_x_games)\n",
    "#         self.playoff_game = playoff_game\n",
    "#         self.game_started = game_started\n",
    "#         self.df           = self.get_data()\n",
    "        \n",
    "        # setting desired columns for dataframe\n",
    "        cols = list(self.df.columns.values[6:-1])\n",
    "#         self.cols = [col for col in cols if col not in ['fg_pct','fg3_pct','ft_pct','pts']] + ['Home_Game', 'playoff']\n",
    "        self.cols = ['playoff','Home_Game','gs','mp','fga','fg3a','fta','orb','drb','trb','ast','stl','blk','tov','pf']\n",
    "        \n",
    "        # setting training data as all data from player\n",
    "        self.set_train_test_split()\n",
    "        \n",
    "        self.model = self.get_model(X=self.X_train, y=self.y_train)\n",
    "        \n",
    "#         return self.get_seed_data(X_test)\n",
    "\n",
    "        self.seed = self.get_seed_data(X_test=self.X_test, random_data_rows=len(self.y_test))\n",
    "#         print self.seed\n",
    "        self.predicted_ppg = self.get_player_prediction()\n",
    "\n",
    "        return self.predicted_ppg\n",
    "\n",
    "    \n",
    "    def get_data(self):\n",
    "        # setting empty dataframe\n",
    "        df = pd.DataFrame()\n",
    "\n",
    "        # retreiving data from csv files\n",
    "        for file in os.listdir(\"./basketball_reference/game_logs/\"):\n",
    "            if file.startswith(self.player_url) and file.endswith(self.player_year + \".csv\") :\n",
    "                filepath = \"./basketball_reference/game_logs/\" + file\n",
    "#                 print filepath\n",
    "                data = pd.read_csv(filepath)\n",
    "                df = df.append(data)\n",
    "\n",
    "        df = df.reset_index()\n",
    "\n",
    "        # deleting unnecessary or columns with NAN\n",
    "        del df['index']\n",
    "        del df['fg_pct']\n",
    "        del df['fg3_pct']\n",
    "        del df['ft_pct']\n",
    "        # del df['orb_pct']\n",
    "        # del df['plus_minus']\n",
    "\n",
    "        # data cleaning for all game_log files\n",
    "        df['date'] = pd.to_datetime(df['date'])\n",
    "        df.rename(columns={'loc': 'Home_Game'}, inplace=True)\n",
    "        df['playoff'] = [0 if item[-1] == \"N\" else 1 for item in df['playoff']]\n",
    "        df['Home_Game'] = [0 if item == \"@\" else 1 for item in df['Home_Game']]\n",
    "        df['result'] = [item[3:].replace(\")\",\"\") for item in df['result']]\n",
    "        df['result'] = df['result'].astype(float)\n",
    "        df['mp'] = [0 if pd.isnull(item) else round(float(item.split(\":\")[0]) + float(item.split(\":\")[1])/60. , 2) for item in df['mp']]\n",
    "\n",
    "        df = df.dropna(axis=0, how='any')\n",
    "        df = df.sort_values('date')\n",
    "        df = df[df['date'] < self.before_date]\n",
    "        return df\n",
    "    \n",
    "    \n",
    "    def set_train_test_split(self):#, opp_team, last_x_games, playoff_game, df, cols):\n",
    "    #     Xs = StandardScaler().fit_transform(df[cols])\n",
    "    #     Xs = pd.DataFrame(Xs, columns=X.columns)\n",
    "        \n",
    "        # setting opponent information based on past x games\n",
    "        opp = self.df[self.last_x_games:] \n",
    "        if self.opp_team != None:\n",
    "            opp = self.df[(self.df['opp'] == self.opp_team)]\n",
    "            try:\n",
    "                opp = opp[self.last_x_games:]\n",
    "            except e: pass # catch index out of range: if last_x_games > game played per opponent\n",
    "        \n",
    "        # setting opponent information based on playoff data\n",
    "        playoff = pd.DataFrame()\n",
    "        if self.playoff_game != None:\n",
    "            try:\n",
    "                if self.playoff_game == 1 or self.playoff_game == 0:\n",
    "                    playoff = self.df[(self.df['playoff'] == self.playoff_game)][self.last_x_games:]\n",
    "            except e: pass\n",
    "        \n",
    "        # setting opponent information based on home game data\n",
    "        home = pd.DataFrame()\n",
    "        if self.home_game != None:\n",
    "            home = self.df[(self.df['Home_Game'] == self.home_game)][self.last_x_games:]\n",
    "        \n",
    "        \n",
    "        opponents = pd.concat([opp, playoff, home])#['pts'] # df['playoff'] == playoff_game\n",
    "        # setting testing data based on team opponent and last 5 games\n",
    "        mask = set(opponents.index.values) # opponents.drop_duplicates()\n",
    "        self.opponents_mask = mask\n",
    "        \n",
    "        not_mask = [i for i in self.df.index if i not in mask]\n",
    "        \n",
    "        # setting training data as all data from player\n",
    "#         X_train = self.df.ix[not_mask,:][self.cols]\n",
    "#         y_train = self.df.ix[not_mask,:][['pts']]\n",
    "#         X_test = self.df.ix[mask,:][self.cols]\n",
    "#         y_test = self.df.ix[mask,:][['pts']]\n",
    "        \n",
    "#         X = self.df.ix[not_mask,:][self.cols]\n",
    "#         y = self.df.ix[not_mask,:][['pts']]\n",
    "\n",
    "        X = self.df[self.cols]\n",
    "        y = self.df[['pts']]\n",
    "        \n",
    "        X_train, X_test, y_train, y_test = train_test_split(X, y, train_size=0.7, random_state=8)\n",
    "#         print \"mp: \", X_train['mp'].mean(), X_test['mp'].mean()\n",
    "#         print \"pts: \", y_train['pts'].mean(), y_test['pts'].mean()\n",
    "\n",
    "        self.X_train = X_train\n",
    "        self.X_test  = X_test\n",
    "        self.y_train = y_train\n",
    "        self.y_test  = y_test\n",
    "        self.target_X = self.df.ix[mask,:][self.cols]\n",
    "        self.target_y = self.df.ix[mask,:][['pts']]\n",
    "        \n",
    "#         return (X_train, X_test, y_train, y_test)\n",
    "    \n",
    "    \n",
    "    def get_model(self, X, y):\n",
    "        model = RidgeCV().fit(X, y)\n",
    "#         print \"score X_train:\", model.score(X_train, y_train)\n",
    "#         print \"score X_test:\", model.score(X_test, y_test)\n",
    "        return model\n",
    "    \n",
    "    def score(self, X, y):\n",
    "        return self.model.score(X, y)\n",
    "        \n",
    "    \n",
    "    def get_seed_data(self, X_test, random_data_rows=1):\n",
    "        # randomly seeding data based on mean/std from a given opponent\n",
    "        seed = []\n",
    "        for i in range(random_data_rows):\n",
    "            row = []\n",
    "            for col in self.cols:\n",
    "                if col == \"Home_Game\":\n",
    "                    if self.home_game != None:\n",
    "                        row.append(self.home_game) # home game == 1, away game == 0\n",
    "                    else: \n",
    "                        row.append(int(round(X_test['Home_Game'].mean())))\n",
    "#                         row.append(np.random.choice([0,1]))\n",
    "                elif col == 'gs':\n",
    "                    if self.game_started != None:\n",
    "                        row.append(self.game_started)\n",
    "                    else:\n",
    "                        row.append(int(round(X_test['gs'].mean())))\n",
    "#                         row.append(X_test['gs'].value_counts().idxmax()) # max of started vs not started\n",
    "                elif col == 'playoff':\n",
    "                    if self.playoff_game != None:\n",
    "                        row.append(self.playoff_game)\n",
    "                    else:\n",
    "                        row.append(int(round(X_test['playoff'].mean())))\n",
    "#                         row.append(X_test['playoff'].value_counts().idxmax())\n",
    "                else:\n",
    "                    std = X_test[col].std()\n",
    "                    if std == 0:\n",
    "                        row.append(0)\n",
    "                    else:\n",
    "                        row.append(X_test[col].mean())\n",
    "    #                     row.append(np.random.normal(X_test[col].mean(), X_test[col].std()))\n",
    "            seed.append(row)\n",
    "\n",
    "    #     print ridge.score(X_test, y_test)\n",
    "        seed = pd.DataFrame(seed, columns=self.cols)\n",
    "        return seed\n",
    "    \n",
    "    def predict(self, X):\n",
    "        return self.model.predict(X)\n",
    "    \n",
    "    def get_player_prediction(self):\n",
    "        return self.predict(X=self.target_X).mean()\n",
    "    "
   ]
  },
  {
   "cell_type": "code",
   "execution_count": 4,
   "metadata": {
    "collapsed": true
   },
   "outputs": [],
   "source": [
    "# sBeg, sEnd = '2016-10-25','2017-05-20'\n",
    "# dBeg = dt.datetime.strptime(sBeg, \"%Y-%m-%d\")\n",
    "# dEnd = dt.datetime.strptime(sEnd, \"%Y-%m-%d\")\n",
    "# date_diff = dEnd - dBeg\n",
    "# date_list = [(dBeg + dt.timedelta(days=date)).strftime(\"%Y-%m-%d\") for date in range(0, date_diff.days)]\n",
    "# beg_year = dt.datetime.strptime(date_list[0], \"%Y-%m-%d\").year\n",
    "# end_year = dt.datetime.strptime(date_list[-1], \"%Y-%m-%d\").year\n",
    "\n",
    "# results = []\n",
    "# for date in date_list:\n",
    "#     print date\n",
    "#     for i in range(10):\n",
    "#         row = []\n",
    "#         row.append(i)\n",
    "#         row.append(date)\n",
    "#         pp = predict_player(player_url=\"Stephen_Curry\", before_date=date, last_x_games=i+1)\n",
    "#         (ppg, mpg) = pp.predict_player()\n",
    "#         row.append(pp.model.score(pp.X_train, pp.y_train))\n",
    "#         row.append(pp.model.score(pp.X_test, pp.y_test))\n",
    "#         row.append(pp.y_test.pts.mean())\n",
    "#         row.append(ppg)\n",
    "#         row.append(mpg)\n",
    "        \n",
    "#         #         print pp.opp_team, pp.home_game, pp.playoff_game, pp.last_x_games, pp.opponents_mask #(pp.X_train, pp.X_test, pp.y_train, pp.y_test)\n",
    "# #         print pp.df\n",
    "# #         print pp.model.score(pp.X_train, pp.y_train)\n",
    "# #         print pp.model.score(pp.X_test, pp.y_test)\n",
    "#         results.append(row)\n",
    "# # results = pd.DataFrame(results, columns=['i','date','train','test','mean_ppg','ppg','mpg'])\n",
    "# # results"
   ]
  },
  {
   "cell_type": "code",
   "execution_count": 5,
   "metadata": {
    "collapsed": true
   },
   "outputs": [],
   "source": [
    "# scores = pd.DataFrame(results, columns=['i','date','train','test','mean_ppg','ppg','mpg'])"
   ]
  },
  {
   "cell_type": "code",
   "execution_count": 6,
   "metadata": {
    "collapsed": true
   },
   "outputs": [],
   "source": [
    "# scores.groupby(\"i\").mean()"
   ]
  },
  {
   "cell_type": "markdown",
   "metadata": {},
   "source": [
    "# predict a player"
   ]
  },
  {
   "cell_type": "code",
   "execution_count": 7,
   "metadata": {},
   "outputs": [
    {
     "name": "stdout",
     "output_type": "stream",
     "text": [
      "Stephen_Curry\n",
      "27.5903237485\n",
      "0.573448355174\n",
      "0.408966749486\n",
      "[[ 24.13680557]\n",
      " [ 40.09721666]\n",
      " [ 23.16474316]\n",
      " [ 21.09763056]\n",
      " [ 29.45522279]]\n",
      "    pts\n",
      "88   30\n",
      "89   40\n",
      "90   29\n",
      "86   23\n",
      "87   23\n"
     ]
    }
   ],
   "source": [
    "pp = predict_player(player_url=\"Stephen_Curry\", player_year=2017, before_date=\"2017-05-20\", last_x_games=5)\n",
    "print pp.player_url\n",
    "print pp.predict_player()\n",
    "# pp.df#.info()\n",
    "# print pp.player_url\n",
    "# print pp.opp_team\n",
    "# print pp.seed\n",
    "print pp.model.score(pp.X_train, pp.y_train)\n",
    "print pp.model.score(pp.X_test, pp.y_test)\n",
    "# print pp.X_test\n",
    "# print pp.y_test.pts\n",
    "print pp.model.predict(pp.target_X)\n",
    "print pp.target_y"
   ]
  },
  {
   "cell_type": "code",
   "execution_count": 8,
   "metadata": {},
   "outputs": [
    {
     "name": "stdout",
     "output_type": "stream",
     "text": [
      "-5\n"
     ]
    },
    {
     "data": {
      "text/html": [
       "<div>\n",
       "<table border=\"1\" class=\"dataframe\">\n",
       "  <thead>\n",
       "    <tr style=\"text-align: right;\">\n",
       "      <th></th>\n",
       "      <th>game</th>\n",
       "      <th>playoff</th>\n",
       "      <th>date</th>\n",
       "      <th>team</th>\n",
       "      <th>Home_Game</th>\n",
       "      <th>opp</th>\n",
       "      <th>result</th>\n",
       "      <th>gs</th>\n",
       "      <th>mp</th>\n",
       "      <th>fg</th>\n",
       "      <th>...</th>\n",
       "      <th>drb_pct</th>\n",
       "      <th>trb_pct</th>\n",
       "      <th>ast_pct</th>\n",
       "      <th>stl_pct</th>\n",
       "      <th>blk_pct</th>\n",
       "      <th>tov_pct</th>\n",
       "      <th>usg_pct</th>\n",
       "      <th>off_rtg</th>\n",
       "      <th>def_rtg</th>\n",
       "      <th>Name</th>\n",
       "    </tr>\n",
       "  </thead>\n",
       "  <tbody>\n",
       "    <tr>\n",
       "      <th>86</th>\n",
       "      <td>6</td>\n",
       "      <td>1</td>\n",
       "      <td>2017-05-04</td>\n",
       "      <td>GSW</td>\n",
       "      <td>1</td>\n",
       "      <td>UTA</td>\n",
       "      <td>11.0</td>\n",
       "      <td>1</td>\n",
       "      <td>38.17</td>\n",
       "      <td>8</td>\n",
       "      <td>...</td>\n",
       "      <td>8.8</td>\n",
       "      <td>5.8</td>\n",
       "      <td>23.6</td>\n",
       "      <td>2.5</td>\n",
       "      <td>0.0</td>\n",
       "      <td>15.9</td>\n",
       "      <td>21.4</td>\n",
       "      <td>125</td>\n",
       "      <td>106</td>\n",
       "      <td>Stephen Curry</td>\n",
       "    </tr>\n",
       "    <tr>\n",
       "      <th>87</th>\n",
       "      <td>7</td>\n",
       "      <td>1</td>\n",
       "      <td>2017-05-06</td>\n",
       "      <td>GSW</td>\n",
       "      <td>0</td>\n",
       "      <td>UTA</td>\n",
       "      <td>11.0</td>\n",
       "      <td>1</td>\n",
       "      <td>36.50</td>\n",
       "      <td>6</td>\n",
       "      <td>...</td>\n",
       "      <td>13.7</td>\n",
       "      <td>7.1</td>\n",
       "      <td>18.1</td>\n",
       "      <td>0.0</td>\n",
       "      <td>0.0</td>\n",
       "      <td>0.0</td>\n",
       "      <td>31.2</td>\n",
       "      <td>108</td>\n",
       "      <td>102</td>\n",
       "      <td>Stephen Curry</td>\n",
       "    </tr>\n",
       "    <tr>\n",
       "      <th>88</th>\n",
       "      <td>8</td>\n",
       "      <td>1</td>\n",
       "      <td>2017-05-08</td>\n",
       "      <td>GSW</td>\n",
       "      <td>0</td>\n",
       "      <td>UTA</td>\n",
       "      <td>26.0</td>\n",
       "      <td>1</td>\n",
       "      <td>35.35</td>\n",
       "      <td>9</td>\n",
       "      <td>...</td>\n",
       "      <td>10.1</td>\n",
       "      <td>7.4</td>\n",
       "      <td>30.9</td>\n",
       "      <td>0.0</td>\n",
       "      <td>2.2</td>\n",
       "      <td>9.7</td>\n",
       "      <td>26.1</td>\n",
       "      <td>153</td>\n",
       "      <td>101</td>\n",
       "      <td>Stephen Curry</td>\n",
       "    </tr>\n",
       "    <tr>\n",
       "      <th>89</th>\n",
       "      <td>9</td>\n",
       "      <td>1</td>\n",
       "      <td>2017-05-14</td>\n",
       "      <td>GSW</td>\n",
       "      <td>1</td>\n",
       "      <td>SAS</td>\n",
       "      <td>2.0</td>\n",
       "      <td>1</td>\n",
       "      <td>39.18</td>\n",
       "      <td>14</td>\n",
       "      <td>...</td>\n",
       "      <td>15.3</td>\n",
       "      <td>10.7</td>\n",
       "      <td>16.8</td>\n",
       "      <td>3.9</td>\n",
       "      <td>0.0</td>\n",
       "      <td>9.4</td>\n",
       "      <td>34.3</td>\n",
       "      <td>139</td>\n",
       "      <td>115</td>\n",
       "      <td>Stephen Curry</td>\n",
       "    </tr>\n",
       "    <tr>\n",
       "      <th>90</th>\n",
       "      <td>10</td>\n",
       "      <td>1</td>\n",
       "      <td>2017-05-16</td>\n",
       "      <td>GSW</td>\n",
       "      <td>1</td>\n",
       "      <td>SAS</td>\n",
       "      <td>36.0</td>\n",
       "      <td>1</td>\n",
       "      <td>30.55</td>\n",
       "      <td>8</td>\n",
       "      <td>...</td>\n",
       "      <td>16.8</td>\n",
       "      <td>12.4</td>\n",
       "      <td>29.4</td>\n",
       "      <td>4.6</td>\n",
       "      <td>0.0</td>\n",
       "      <td>11.1</td>\n",
       "      <td>25.1</td>\n",
       "      <td>164</td>\n",
       "      <td>93</td>\n",
       "      <td>Stephen Curry</td>\n",
       "    </tr>\n",
       "  </tbody>\n",
       "</table>\n",
       "<p>5 rows × 39 columns</p>\n",
       "</div>"
      ],
      "text/plain": [
       "    game  playoff       date team  Home_Game  opp  result  gs     mp  fg  \\\n",
       "86     6        1 2017-05-04  GSW          1  UTA    11.0   1  38.17   8   \n",
       "87     7        1 2017-05-06  GSW          0  UTA    11.0   1  36.50   6   \n",
       "88     8        1 2017-05-08  GSW          0  UTA    26.0   1  35.35   9   \n",
       "89     9        1 2017-05-14  GSW          1  SAS     2.0   1  39.18  14   \n",
       "90    10        1 2017-05-16  GSW          1  SAS    36.0   1  30.55   8   \n",
       "\n",
       "        ...        drb_pct  trb_pct  ast_pct  stl_pct  blk_pct  tov_pct  \\\n",
       "86      ...            8.8      5.8     23.6      2.5      0.0     15.9   \n",
       "87      ...           13.7      7.1     18.1      0.0      0.0      0.0   \n",
       "88      ...           10.1      7.4     30.9      0.0      2.2      9.7   \n",
       "89      ...           15.3     10.7     16.8      3.9      0.0      9.4   \n",
       "90      ...           16.8     12.4     29.4      4.6      0.0     11.1   \n",
       "\n",
       "    usg_pct  off_rtg  def_rtg           Name  \n",
       "86     21.4      125      106  Stephen Curry  \n",
       "87     31.2      108      102  Stephen Curry  \n",
       "88     26.1      153      101  Stephen Curry  \n",
       "89     34.3      139      115  Stephen Curry  \n",
       "90     25.1      164       93  Stephen Curry  \n",
       "\n",
       "[5 rows x 39 columns]"
      ]
     },
     "execution_count": 8,
     "metadata": {},
     "output_type": "execute_result"
    }
   ],
   "source": [
    "print pp.last_x_games\n",
    "pp.df[pp.last_x_games:]"
   ]
  },
  {
   "cell_type": "markdown",
   "metadata": {},
   "source": [
    "# test data"
   ]
  },
  {
   "cell_type": "code",
   "execution_count": 9,
   "metadata": {},
   "outputs": [
    {
     "data": {
      "text/plain": [
       "88    30\n",
       "89    40\n",
       "90    29\n",
       "86    23\n",
       "87    23\n",
       "Name: pts, dtype: int64"
      ]
     },
     "execution_count": 9,
     "metadata": {},
     "output_type": "execute_result"
    }
   ],
   "source": [
    "pp.df.ix[pp.opponents_mask,:]['pts']"
   ]
  },
  {
   "cell_type": "code",
   "execution_count": 10,
   "metadata": {
    "scrolled": true
   },
   "outputs": [
    {
     "name": "stdout",
     "output_type": "stream",
     "text": [
      "27.4647230218\n"
     ]
    },
    {
     "data": {
      "text/html": [
       "<div>\n",
       "<table border=\"1\" class=\"dataframe\">\n",
       "  <thead>\n",
       "    <tr style=\"text-align: right;\">\n",
       "      <th></th>\n",
       "      <th>game</th>\n",
       "      <th>playoff</th>\n",
       "      <th>date</th>\n",
       "      <th>team</th>\n",
       "      <th>Home_Game</th>\n",
       "      <th>opp</th>\n",
       "      <th>result</th>\n",
       "      <th>gs</th>\n",
       "      <th>mp</th>\n",
       "      <th>fg</th>\n",
       "      <th>...</th>\n",
       "      <th>drb_pct</th>\n",
       "      <th>trb_pct</th>\n",
       "      <th>ast_pct</th>\n",
       "      <th>stl_pct</th>\n",
       "      <th>blk_pct</th>\n",
       "      <th>tov_pct</th>\n",
       "      <th>usg_pct</th>\n",
       "      <th>off_rtg</th>\n",
       "      <th>def_rtg</th>\n",
       "      <th>Name</th>\n",
       "    </tr>\n",
       "  </thead>\n",
       "  <tbody>\n",
       "    <tr>\n",
       "      <th>358</th>\n",
       "      <td>73</td>\n",
       "      <td>0</td>\n",
       "      <td>2017-03-29</td>\n",
       "      <td>GSW</td>\n",
       "      <td>0</td>\n",
       "      <td>SAS</td>\n",
       "      <td>12.0</td>\n",
       "      <td>1</td>\n",
       "      <td>35.13</td>\n",
       "      <td>9</td>\n",
       "      <td>...</td>\n",
       "      <td>10.0</td>\n",
       "      <td>7.1</td>\n",
       "      <td>48.9</td>\n",
       "      <td>1.5</td>\n",
       "      <td>0.0</td>\n",
       "      <td>8.0</td>\n",
       "      <td>32.7</td>\n",
       "      <td>139</td>\n",
       "      <td>112</td>\n",
       "      <td>Stephen Curry</td>\n",
       "    </tr>\n",
       "    <tr>\n",
       "      <th>371</th>\n",
       "      <td>8</td>\n",
       "      <td>1</td>\n",
       "      <td>2017-05-08</td>\n",
       "      <td>GSW</td>\n",
       "      <td>0</td>\n",
       "      <td>UTA</td>\n",
       "      <td>26.0</td>\n",
       "      <td>1</td>\n",
       "      <td>35.35</td>\n",
       "      <td>9</td>\n",
       "      <td>...</td>\n",
       "      <td>10.1</td>\n",
       "      <td>7.4</td>\n",
       "      <td>30.9</td>\n",
       "      <td>0.0</td>\n",
       "      <td>2.2</td>\n",
       "      <td>9.7</td>\n",
       "      <td>26.1</td>\n",
       "      <td>153</td>\n",
       "      <td>101</td>\n",
       "      <td>Stephen Curry</td>\n",
       "    </tr>\n",
       "    <tr>\n",
       "      <th>372</th>\n",
       "      <td>9</td>\n",
       "      <td>1</td>\n",
       "      <td>2017-05-14</td>\n",
       "      <td>GSW</td>\n",
       "      <td>1</td>\n",
       "      <td>SAS</td>\n",
       "      <td>2.0</td>\n",
       "      <td>1</td>\n",
       "      <td>39.18</td>\n",
       "      <td>14</td>\n",
       "      <td>...</td>\n",
       "      <td>15.3</td>\n",
       "      <td>10.7</td>\n",
       "      <td>16.8</td>\n",
       "      <td>3.9</td>\n",
       "      <td>0.0</td>\n",
       "      <td>9.4</td>\n",
       "      <td>34.3</td>\n",
       "      <td>139</td>\n",
       "      <td>115</td>\n",
       "      <td>Stephen Curry</td>\n",
       "    </tr>\n",
       "    <tr>\n",
       "      <th>373</th>\n",
       "      <td>10</td>\n",
       "      <td>1</td>\n",
       "      <td>2017-05-16</td>\n",
       "      <td>GSW</td>\n",
       "      <td>1</td>\n",
       "      <td>SAS</td>\n",
       "      <td>36.0</td>\n",
       "      <td>1</td>\n",
       "      <td>30.55</td>\n",
       "      <td>8</td>\n",
       "      <td>...</td>\n",
       "      <td>16.8</td>\n",
       "      <td>12.4</td>\n",
       "      <td>29.4</td>\n",
       "      <td>4.6</td>\n",
       "      <td>0.0</td>\n",
       "      <td>11.1</td>\n",
       "      <td>25.1</td>\n",
       "      <td>164</td>\n",
       "      <td>93</td>\n",
       "      <td>Stephen Curry</td>\n",
       "    </tr>\n",
       "    <tr>\n",
       "      <th>374</th>\n",
       "      <td>11</td>\n",
       "      <td>1</td>\n",
       "      <td>2017-05-20</td>\n",
       "      <td>GSW</td>\n",
       "      <td>0</td>\n",
       "      <td>SAS</td>\n",
       "      <td>12.0</td>\n",
       "      <td>1</td>\n",
       "      <td>33.50</td>\n",
       "      <td>8</td>\n",
       "      <td>...</td>\n",
       "      <td>11.9</td>\n",
       "      <td>8.1</td>\n",
       "      <td>12.4</td>\n",
       "      <td>8.3</td>\n",
       "      <td>0.0</td>\n",
       "      <td>23.9</td>\n",
       "      <td>26.1</td>\n",
       "      <td>105</td>\n",
       "      <td>94</td>\n",
       "      <td>Stephen Curry</td>\n",
       "    </tr>\n",
       "    <tr>\n",
       "      <th>375</th>\n",
       "      <td>12</td>\n",
       "      <td>1</td>\n",
       "      <td>2017-05-22</td>\n",
       "      <td>GSW</td>\n",
       "      <td>0</td>\n",
       "      <td>SAS</td>\n",
       "      <td>14.0</td>\n",
       "      <td>1</td>\n",
       "      <td>33.90</td>\n",
       "      <td>14</td>\n",
       "      <td>...</td>\n",
       "      <td>12.0</td>\n",
       "      <td>7.5</td>\n",
       "      <td>30.2</td>\n",
       "      <td>0.0</td>\n",
       "      <td>0.0</td>\n",
       "      <td>19.2</td>\n",
       "      <td>38.9</td>\n",
       "      <td>114</td>\n",
       "      <td>112</td>\n",
       "      <td>Stephen Curry</td>\n",
       "    </tr>\n",
       "  </tbody>\n",
       "</table>\n",
       "<p>6 rows × 39 columns</p>\n",
       "</div>"
      ],
      "text/plain": [
       "     game  playoff       date team  Home_Game  opp  result  gs     mp  fg  \\\n",
       "358    73        0 2017-03-29  GSW          0  SAS    12.0   1  35.13   9   \n",
       "371     8        1 2017-05-08  GSW          0  UTA    26.0   1  35.35   9   \n",
       "372     9        1 2017-05-14  GSW          1  SAS     2.0   1  39.18  14   \n",
       "373    10        1 2017-05-16  GSW          1  SAS    36.0   1  30.55   8   \n",
       "374    11        1 2017-05-20  GSW          0  SAS    12.0   1  33.50   8   \n",
       "375    12        1 2017-05-22  GSW          0  SAS    14.0   1  33.90  14   \n",
       "\n",
       "         ...        drb_pct  trb_pct  ast_pct  stl_pct  blk_pct  tov_pct  \\\n",
       "358      ...           10.0      7.1     48.9      1.5      0.0      8.0   \n",
       "371      ...           10.1      7.4     30.9      0.0      2.2      9.7   \n",
       "372      ...           15.3     10.7     16.8      3.9      0.0      9.4   \n",
       "373      ...           16.8     12.4     29.4      4.6      0.0     11.1   \n",
       "374      ...           11.9      8.1     12.4      8.3      0.0     23.9   \n",
       "375      ...           12.0      7.5     30.2      0.0      0.0     19.2   \n",
       "\n",
       "     usg_pct  off_rtg  def_rtg           Name  \n",
       "358     32.7      139      112  Stephen Curry  \n",
       "371     26.1      153      101  Stephen Curry  \n",
       "372     34.3      139      115  Stephen Curry  \n",
       "373     25.1      164       93  Stephen Curry  \n",
       "374     26.1      105       94  Stephen Curry  \n",
       "375     38.9      114      112  Stephen Curry  \n",
       "\n",
       "[6 rows x 39 columns]"
      ]
     },
     "execution_count": 10,
     "metadata": {},
     "output_type": "execute_result"
    }
   ],
   "source": [
    "pp = predict_player(\"Stephen_Curry\", opp_team=\"SAS\", last_x_games=5, playoff_game=1, home_game=None)\n",
    "print pp.predict_player()\n",
    "pp.df.ix[pp.opponents_mask,:]"
   ]
  },
  {
   "cell_type": "code",
   "execution_count": 11,
   "metadata": {},
   "outputs": [
    {
     "name": "stdout",
     "output_type": "stream",
     "text": [
      "25.0880829016\n",
      "26.7650273224\n"
     ]
    }
   ],
   "source": [
    "print pp.df[pp.df['Home_Game'] == 1]['pts'].mean()\n",
    "print pp.df[pp.df['Home_Game'] == 0]['pts'].mean()"
   ]
  },
  {
   "cell_type": "code",
   "execution_count": 12,
   "metadata": {},
   "outputs": [
    {
     "name": "stdout",
     "output_type": "stream",
     "text": [
      "6.84034678257\n",
      "6.00376786099\n"
     ]
    }
   ],
   "source": [
    "print predict_player(\"Patrick_McCaw\", opp_team=\"SAS\", last_x_games=5, playoff_game=1, home_game=1).predict_player()\n",
    "print predict_player(\"Patrick_McCaw\", opp_team=\"SAS\", last_x_games=5, playoff_game=1, home_game=0).predict_player()"
   ]
  },
  {
   "cell_type": "code",
   "execution_count": 13,
   "metadata": {},
   "outputs": [
    {
     "name": "stdout",
     "output_type": "stream",
     "text": [
      "11.2425298836\n",
      "12.4409039204\n"
     ]
    }
   ],
   "source": [
    "print predict_player(\"Brandon_Ingram\", opp_team=None, last_x_games=5, playoff_game=1, home_game=1).predict_player()\n",
    "print predict_player(\"Brandon_Ingram\", opp_team=None, last_x_games=5, playoff_game=1, home_game=0).predict_player()"
   ]
  },
  {
   "cell_type": "markdown",
   "metadata": {
    "collapsed": true
   },
   "source": [
    "# team gathering function"
   ]
  },
  {
   "cell_type": "code",
   "execution_count": 14,
   "metadata": {},
   "outputs": [
    {
     "name": "stdout",
     "output_type": "stream",
     "text": [
      "24.4677197344\n"
     ]
    },
    {
     "data": {
      "text/plain": [
       "[['Stephen_Curry', 28.0, 24.467719734377049, 33.971111111111114]]"
      ]
     },
     "execution_count": 14,
     "metadata": {},
     "output_type": "execute_result"
    }
   ],
   "source": [
    "game_score = []\n",
    "def predict():\n",
    "    pp = predict_player(\"Stephen_Curry\", opp_team=\"SAS\", last_x_games=5, playoff_game=1, home_game=1)\n",
    "    print pp.predict_player()\n",
    "    game_score.append(['Stephen_Curry', pp.target_y['pts'].mean(), pp.model.predict(pp.target_X).mean(), pp.target_X.mp.mean()])\n",
    "predict()\n",
    "game_score    "
   ]
  },
  {
   "cell_type": "code",
   "execution_count": null,
   "metadata": {
    "collapsed": true
   },
   "outputs": [],
   "source": []
  },
  {
   "cell_type": "code",
   "execution_count": 15,
   "metadata": {
    "collapsed": true
   },
   "outputs": [],
   "source": [
    "def get_ppg_from_list(players_list, opp_team=None, last_x_games=None, playoff_game=None, home_game=None):\n",
    "    game_score = []\n",
    "    for player in players_list:\n",
    "        pp = predict_player(player_url = player, opp_team=opp_team, last_x_games=last_x_games, playoff_game=playoff_game, home_game=home_game)\n",
    "        pp.predict_player()\n",
    "#         game_score.append([player, ppg, mpg])\n",
    "#         print player, \"train:\", pp.score(pp.X_train, pp.y_train), \"test :\", pp.score(pp.X_test, pp.y_test)\n",
    "        game_score.append([player, pp.target_y['pts'].mean(), pp.model.predict(pp.target_X).mean(), pp.target_X.mp.mean()])\n",
    "    \n",
    "#         print pp.df.ix[pp.opponents_mask,:]\n",
    "    game_score = pd.DataFrame(game_score, columns=['player','orig','ppg','mpg'])\n",
    "#     print game_score\n",
    "    print game_score.orig.sum(), game_score.orig.sum() * (48*5.) / game_score.mpg.sum()\n",
    "    print game_score.ppg.sum(), game_score.ppg.sum() * (48*5.) / game_score.mpg.sum()\n",
    "    print game_score.mpg.sum()\n",
    "    return game_score.ppg.sum() * (48*5.) / game_score.mpg.sum()"
   ]
  },
  {
   "cell_type": "code",
   "execution_count": 16,
   "metadata": {},
   "outputs": [
    {
     "name": "stdout",
     "output_type": "stream",
     "text": [
      "124.15 127.205584136\n",
      "109.592323915 112.289614018\n",
      "234.235\n"
     ]
    },
    {
     "data": {
      "text/plain": [
       "112.28961401826231"
      ]
     },
     "execution_count": 16,
     "metadata": {},
     "output_type": "execute_result"
    }
   ],
   "source": [
    "players_list = ['Matt_Barnes', 'Ian_Clark', 'Stephen_Curry', 'Kevin_Durant', 'Draymond_Green', 'Andre_Iguodala', 'Shaun_Livingston', 'Patrick_McCaw', 'JaVale_McGee', 'Klay_Thompson', 'David_West']\n",
    "get_ppg_from_list(players_list=players_list, opp_team=\"SAS\", last_x_games=3, playoff_game=1, home_game=0)"
   ]
  },
  {
   "cell_type": "code",
   "execution_count": 17,
   "metadata": {},
   "outputs": [
    {
     "name": "stdout",
     "output_type": "stream",
     "text": [
      "98.1666666667 106.238186676\n",
      "97.3193422075 105.321192984\n",
      "221.765833333\n"
     ]
    },
    {
     "data": {
      "text/plain": [
       "105.32119298423828"
      ]
     },
     "execution_count": 17,
     "metadata": {},
     "output_type": "execute_result"
    }
   ],
   "source": [
    "players_list = ['LaMarcus_Aldridge', 'Kyle_Anderson', 'Davis_Bertans', 'Dewayne_Dedmon', 'Pau_Gasol', 'Manu_Ginobili', 'Danny_Green', 'Patty_Mills', 'Dejounte_Murray', 'Jonathon_Simmons']\n",
    "# players_list.append('Kawhi_Leonard')\n",
    "# players_list.append('Tony_Parker')\n",
    "# players_list.append('David_Lee')\n",
    "get_ppg_from_list(players_list=players_list, opp_team=\"GSW\", last_x_games=3, playoff_game=1, home_game=1)"
   ]
  },
  {
   "cell_type": "code",
   "execution_count": 18,
   "metadata": {},
   "outputs": [
    {
     "name": "stdout",
     "output_type": "stream",
     "text": [
      "124.190909091 110.965408599\n",
      "119.687987484 106.942018001\n",
      "268.604590909\n"
     ]
    },
    {
     "data": {
      "text/plain": [
       "106.9420180006793"
      ]
     },
     "execution_count": 18,
     "metadata": {},
     "output_type": "execute_result"
    }
   ],
   "source": [
    "players_list = ['Mike_Dunleavy', 'Channing_Frye', 'Kyrie_Irving', 'LeBron_James', 'Richard_Jefferson', 'Kyle_Korver', 'Kevin_Love', 'Iman_Shumpert', 'J.R._Smith', 'Tristan_Thompson', 'Deron_Williams']\n",
    "get_ppg_from_list(players_list=players_list, opp_team=\"BOS\", last_x_games=5, playoff_game=1, home_game=1)"
   ]
  },
  {
   "cell_type": "code",
   "execution_count": 19,
   "metadata": {},
   "outputs": [
    {
     "name": "stdout",
     "output_type": "stream",
     "text": [
      "89.9202020202 96.321434281\n",
      "85.3483152022 91.4240843441\n",
      "224.050323232\n"
     ]
    },
    {
     "data": {
      "text/plain": [
       "91.42408434411314"
      ]
     },
     "execution_count": 19,
     "metadata": {},
     "output_type": "execute_result"
    }
   ],
   "source": [
    "players_list = ['Avery_Bradley', 'Jaylen_Brown', 'Jae_Crowder', 'Gerald_Green', 'Al_Horford', 'Jonas_Jerebko', 'Amir_Johnson', 'Kelly_Olynyk', 'Terry_Rozier', 'Marcus_Smart', 'Tyler_Zeller']\n",
    "# players_list.append('Isaiah_Thomas')\n",
    "get_ppg_from_list(players_list=players_list, opp_team=\"CLE\", last_x_games=5, playoff_game=1, home_game=0)"
   ]
  },
  {
   "cell_type": "code",
   "execution_count": null,
   "metadata": {
    "collapsed": true
   },
   "outputs": [],
   "source": []
  }
 ],
 "metadata": {
  "anaconda-cloud": {},
  "kernelspec": {
   "display_name": "Python [default]",
   "language": "python",
   "name": "python2"
  },
  "language_info": {
   "codemirror_mode": {
    "name": "ipython",
    "version": 2
   },
   "file_extension": ".py",
   "mimetype": "text/x-python",
   "name": "python",
   "nbconvert_exporter": "python",
   "pygments_lexer": "ipython2",
   "version": "2.7.13"
  }
 },
 "nbformat": 4,
 "nbformat_minor": 2
}
